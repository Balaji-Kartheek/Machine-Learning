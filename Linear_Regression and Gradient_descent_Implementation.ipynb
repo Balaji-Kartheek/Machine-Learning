{
 "cells": [
  {
   "cell_type": "markdown",
   "id": "3b2d5500",
   "metadata": {},
   "source": [
    "#### Balaji Kartheek  (200968080)\n",
    "\n",
    "#### Meta Data of the mtcars :\n",
    "mtcars: Motor Trend Car Road Tests\n",
    "\n",
    "A data frame with 32 observations on 11 (numeric) variables.\n",
    "\n",
    "mpg Miles/(US) gallon\n",
    "\n",
    "cyl Number of cylinders\n",
    "\n",
    "disp Displacement (cu.in.)\n",
    "\n",
    "hp Gross horsepower\n",
    "\n",
    "drat Rear axle ratio\n",
    "\n",
    "wt Weight (1000 lbs)\n",
    "\n",
    "qsec 1/4 mile time\n",
    "\n",
    "vs Engine (0 = V-shaped, 1 = straight)\n",
    "\n",
    "am Transmission (0 = automatic, 1 = manual)\n",
    "\n",
    "gear Number of forward gears"
   ]
  },
  {
   "cell_type": "code",
   "execution_count": 23,
   "id": "5d2f921f",
   "metadata": {},
   "outputs": [],
   "source": [
    "import pandas as pd\n",
    "import numpy as np\n",
    "import seaborn as sns\n",
    "import matplotlib.pyplot as plt\n",
    "%matplotlib inline"
   ]
  },
  {
   "cell_type": "markdown",
   "id": "6b0e63ee",
   "metadata": {},
   "source": [
    "# Excercise"
   ]
  },
  {
   "cell_type": "markdown",
   "id": "247d804e",
   "metadata": {},
   "source": [
    "## Write a user defined function ‘myFnLinReg(x,y)’ to perform Simple Linear Regression given one predictor attribute and one response attribute. The function should return the coefficients of the straight line\n"
   ]
  },
  {
   "cell_type": "code",
   "execution_count": 2,
   "id": "172fcbb7",
   "metadata": {},
   "outputs": [],
   "source": [
    "# the below function returns the coefficients of the linear model that we hypothesized\n",
    "def myFnLinReg(x,y):\n",
    "    x_mean = x.mean()\n",
    "    y_mean = y.mean()\n",
    "    \n",
    "    numerator = ((x-x_mean)*(y-y_mean)).sum()\n",
    "    denominator = ((x-x_mean)**2).sum()\n",
    "    \n",
    "    theta1 = numerator/denominator\n",
    "    theta0 = y_mean - (theta1*x_mean)\n",
    "    \n",
    "    return(theta0,theta1)"
   ]
  },
  {
   "cell_type": "markdown",
   "id": "a64897d9",
   "metadata": {},
   "source": [
    "### this function returs the coefficients of the straight line"
   ]
  },
  {
   "cell_type": "markdown",
   "id": "7e1de65b",
   "metadata": {},
   "source": [
    "## Use mtcars data set and consider the attributes mpg and weight. Split data into train and test sets (70 %,30%). Put training data set to ‘myFnLinReg(x,y)’ to build a linear regression model to predict mpg given the weight of the car. \n",
    "\n"
   ]
  },
  {
   "cell_type": "code",
   "execution_count": 3,
   "id": "236f1f47",
   "metadata": {},
   "outputs": [],
   "source": [
    "data = pd.read_csv(r\"C:\\Users\\tbala\\OneDrive\\Desktop\\Academics\\DataSets\\mtcars.csv\")"
   ]
  },
  {
   "cell_type": "code",
   "execution_count": 4,
   "id": "753efdae",
   "metadata": {},
   "outputs": [
    {
     "data": {
      "text/html": [
       "<div>\n",
       "<style scoped>\n",
       "    .dataframe tbody tr th:only-of-type {\n",
       "        vertical-align: middle;\n",
       "    }\n",
       "\n",
       "    .dataframe tbody tr th {\n",
       "        vertical-align: top;\n",
       "    }\n",
       "\n",
       "    .dataframe thead th {\n",
       "        text-align: right;\n",
       "    }\n",
       "</style>\n",
       "<table border=\"1\" class=\"dataframe\">\n",
       "  <thead>\n",
       "    <tr style=\"text-align: right;\">\n",
       "      <th></th>\n",
       "      <th>model</th>\n",
       "      <th>mpg</th>\n",
       "      <th>cyl</th>\n",
       "      <th>disp</th>\n",
       "      <th>hp</th>\n",
       "      <th>drat</th>\n",
       "      <th>wt</th>\n",
       "      <th>qsec</th>\n",
       "      <th>vs</th>\n",
       "      <th>am</th>\n",
       "      <th>gear</th>\n",
       "      <th>carb</th>\n",
       "    </tr>\n",
       "  </thead>\n",
       "  <tbody>\n",
       "    <tr>\n",
       "      <th>0</th>\n",
       "      <td>Mazda RX4</td>\n",
       "      <td>21.0</td>\n",
       "      <td>6</td>\n",
       "      <td>160.0</td>\n",
       "      <td>110</td>\n",
       "      <td>3.90</td>\n",
       "      <td>2.620</td>\n",
       "      <td>16.46</td>\n",
       "      <td>0</td>\n",
       "      <td>1</td>\n",
       "      <td>4</td>\n",
       "      <td>4</td>\n",
       "    </tr>\n",
       "    <tr>\n",
       "      <th>1</th>\n",
       "      <td>Mazda RX4 Wag</td>\n",
       "      <td>21.0</td>\n",
       "      <td>6</td>\n",
       "      <td>160.0</td>\n",
       "      <td>110</td>\n",
       "      <td>3.90</td>\n",
       "      <td>2.875</td>\n",
       "      <td>17.02</td>\n",
       "      <td>0</td>\n",
       "      <td>1</td>\n",
       "      <td>4</td>\n",
       "      <td>4</td>\n",
       "    </tr>\n",
       "    <tr>\n",
       "      <th>2</th>\n",
       "      <td>Datsun 710</td>\n",
       "      <td>22.8</td>\n",
       "      <td>4</td>\n",
       "      <td>108.0</td>\n",
       "      <td>93</td>\n",
       "      <td>3.85</td>\n",
       "      <td>2.320</td>\n",
       "      <td>18.61</td>\n",
       "      <td>1</td>\n",
       "      <td>1</td>\n",
       "      <td>4</td>\n",
       "      <td>1</td>\n",
       "    </tr>\n",
       "    <tr>\n",
       "      <th>3</th>\n",
       "      <td>Hornet 4 Drive</td>\n",
       "      <td>21.4</td>\n",
       "      <td>6</td>\n",
       "      <td>258.0</td>\n",
       "      <td>110</td>\n",
       "      <td>3.08</td>\n",
       "      <td>3.215</td>\n",
       "      <td>19.44</td>\n",
       "      <td>1</td>\n",
       "      <td>0</td>\n",
       "      <td>3</td>\n",
       "      <td>1</td>\n",
       "    </tr>\n",
       "    <tr>\n",
       "      <th>4</th>\n",
       "      <td>Hornet Sportabout</td>\n",
       "      <td>18.7</td>\n",
       "      <td>8</td>\n",
       "      <td>360.0</td>\n",
       "      <td>175</td>\n",
       "      <td>3.15</td>\n",
       "      <td>3.440</td>\n",
       "      <td>17.02</td>\n",
       "      <td>0</td>\n",
       "      <td>0</td>\n",
       "      <td>3</td>\n",
       "      <td>2</td>\n",
       "    </tr>\n",
       "  </tbody>\n",
       "</table>\n",
       "</div>"
      ],
      "text/plain": [
       "               model   mpg  cyl   disp   hp  drat     wt   qsec  vs  am  gear  \\\n",
       "0          Mazda RX4  21.0    6  160.0  110  3.90  2.620  16.46   0   1     4   \n",
       "1      Mazda RX4 Wag  21.0    6  160.0  110  3.90  2.875  17.02   0   1     4   \n",
       "2         Datsun 710  22.8    4  108.0   93  3.85  2.320  18.61   1   1     4   \n",
       "3     Hornet 4 Drive  21.4    6  258.0  110  3.08  3.215  19.44   1   0     3   \n",
       "4  Hornet Sportabout  18.7    8  360.0  175  3.15  3.440  17.02   0   0     3   \n",
       "\n",
       "   carb  \n",
       "0     4  \n",
       "1     4  \n",
       "2     1  \n",
       "3     1  \n",
       "4     2  "
      ]
     },
     "execution_count": 4,
     "metadata": {},
     "output_type": "execute_result"
    }
   ],
   "source": [
    "data.head()"
   ]
  },
  {
   "cell_type": "code",
   "execution_count": 6,
   "id": "23703745",
   "metadata": {},
   "outputs": [],
   "source": [
    "X = data['wt']\n",
    "Y = data['mpg']\n",
    "\n",
    "from sklearn.model_selection import train_test_split\n",
    "X_train,X_test,Y_train,Y_test = train_test_split(X,Y,test_size = 0.3 , random_state = 0)"
   ]
  },
  {
   "cell_type": "markdown",
   "id": "b277721d",
   "metadata": {},
   "source": [
    "#### why train_test_split is needed?\n",
    "train_test_split is done on the dataset, \n",
    " train dataset is used to train the model, \n",
    " test dataset is used to test the model that model doesn't seen the data before so we get know that how well the model performs on the unseen data\n"
   ]
  },
  {
   "cell_type": "markdown",
   "id": "08b8d2a1",
   "metadata": {},
   "source": [
    "### The Scatter Plot between mpg and weight of a car"
   ]
  },
  {
   "cell_type": "code",
   "execution_count": 8,
   "id": "87a4de96",
   "metadata": {},
   "outputs": [
    {
     "data": {
      "text/plain": [
       "Text(0, 0.5, 'mpg')"
      ]
     },
     "execution_count": 8,
     "metadata": {},
     "output_type": "execute_result"
    },
    {
     "data": {
      "image/png": "[encoded data removed]",
      "text/plain": [
       "<Figure size 432x288 with 1 Axes>"
      ]
     },
     "metadata": {
      "needs_background": "light"
     },
     "output_type": "display_data"
    }
   ],
   "source": [
    "# matplotlib contains all types of plots\n",
    "plt.scatter(X_train,Y_train)\n",
    "plt.xlabel(\"weight\")\n",
    "plt.ylabel(\"mpg\")"
   ]
  },
  {
   "cell_type": "markdown",
   "id": "f2839687",
   "metadata": {},
   "source": [
    "#### passing the parameters lr_theta0,lr_theta1 to myFnLinReg() to get the coefficients of the model"
   ]
  },
  {
   "cell_type": "code",
   "execution_count": 9,
   "id": "53df41bb",
   "metadata": {},
   "outputs": [
    {
     "data": {
      "text/plain": [
       "(40.63710645591722, -6.321221582690658)"
      ]
     },
     "execution_count": 9,
     "metadata": {},
     "output_type": "execute_result"
    }
   ],
   "source": [
    "lr_theta0,lr_theta1 = myFnLinReg(X_train,Y_train)\n",
    "lr_theta0,lr_theta1"
   ]
  },
  {
   "cell_type": "markdown",
   "id": "76e1c478",
   "metadata": {},
   "source": [
    "### The Regression Equation is: \n",
    "### mpg_car = 40.63710645591722+(-6.321221582690658*weight)"
   ]
  },
  {
   "cell_type": "markdown",
   "id": "7e94ca48",
   "metadata": {},
   "source": [
    "## What is the mpg of a car, whose weight is 6.7?"
   ]
  },
  {
   "cell_type": "code",
   "execution_count": 10,
   "id": "49282056",
   "metadata": {},
   "outputs": [],
   "source": [
    "# returns the value of dependent attribute \n",
    "def mpg_car(weight):\n",
    "    return(40.63710645591722+(-6.321221582690658*weight))"
   ]
  },
  {
   "cell_type": "code",
   "execution_count": 11,
   "id": "08483f18",
   "metadata": {},
   "outputs": [
    {
     "data": {
      "text/plain": [
       "-1.7150781481101873"
      ]
     },
     "execution_count": 11,
     "metadata": {},
     "output_type": "execute_result"
    }
   ],
   "source": [
    "mpg_car(6.7)      # passing the weight 6.7\n"
   ]
  },
  {
   "cell_type": "markdown",
   "id": "18395782",
   "metadata": {},
   "source": [
    "## Compute and print accuracy measures such as RMSE and R2 for the test set."
   ]
  },
  {
   "cell_type": "markdown",
   "id": "d2adbf6d",
   "metadata": {},
   "source": [
    "RMSE = root mean square error\n"
   ]
  },
  {
   "cell_type": "code",
   "execution_count": 12,
   "id": "a36e4055",
   "metadata": {},
   "outputs": [],
   "source": [
    "Y_test       # actual mpg\n",
    "y_predicted =  40.63710645591722+(-6.321221582690658*X_test)           # predicted mpg\n",
    "error = Y_test - y_predicted         #error \n",
    "RMSE = np.sqrt(((error**2).sum())/len(Y_test))\n",
    "    "
   ]
  },
  {
   "cell_type": "code",
   "execution_count": 13,
   "id": "41632bbc",
   "metadata": {},
   "outputs": [
    {
     "data": {
      "text/plain": [
       "3.700531874067273"
      ]
     },
     "execution_count": 13,
     "metadata": {},
     "output_type": "execute_result"
    }
   ],
   "source": [
    "RMSE"
   ]
  },
  {
   "cell_type": "markdown",
   "id": "5961ca50",
   "metadata": {},
   "source": [
    "## RMSE(Root Mean Square Error) IS 3.700531874067273"
   ]
  },
  {
   "cell_type": "code",
   "execution_count": 15,
   "id": "b95efab9",
   "metadata": {},
   "outputs": [],
   "source": [
    "Y_mean = Y_test.mean()"
   ]
  },
  {
   "cell_type": "code",
   "execution_count": 16,
   "id": "60be188e",
   "metadata": {},
   "outputs": [],
   "source": [
    "# Function to calculate the Correlation Co-efficient\n",
    "def corr_coef(x, y):\n",
    "    N = len(x)\n",
    "    \n",
    "    num = (N * (x*y).sum()) - (x.sum() * y.sum())\n",
    "    den = np.sqrt((N * (x**2).sum() - x.sum()**2) * (N * (y**2).sum() - y.sum()**2))\n",
    "    R = num / den\n",
    "    return R"
   ]
  },
  {
   "cell_type": "code",
   "execution_count": 17,
   "id": "df9f9a8e",
   "metadata": {},
   "outputs": [
    {
     "data": {
      "text/plain": [
       "-0.8689276480625525"
      ]
     },
     "execution_count": 17,
     "metadata": {},
     "output_type": "execute_result"
    }
   ],
   "source": [
    "R = corr_coef(X_test, Y_test)\n",
    "R"
   ]
  },
  {
   "cell_type": "markdown",
   "id": "5531d860",
   "metadata": {},
   "source": [
    "### r= -0.869 represents they are highly negatively correlated"
   ]
  },
  {
   "cell_type": "code",
   "execution_count": 18,
   "id": "7f072818",
   "metadata": {},
   "outputs": [
    {
     "data": {
      "text/plain": [
       "0.7550352575675191"
      ]
     },
     "execution_count": 18,
     "metadata": {},
     "output_type": "execute_result"
    }
   ],
   "source": [
    "R**2"
   ]
  },
  {
   "cell_type": "markdown",
   "id": "4f4378fa",
   "metadata": {},
   "source": [
    "## R2 value is 0.7550352575675191"
   ]
  },
  {
   "cell_type": "markdown",
   "id": "d9232910",
   "metadata": {},
   "source": [
    "### R^2 = 0.755 represents 75% of x values(weight of car) lie on the hypothesized model"
   ]
  },
  {
   "cell_type": "markdown",
   "id": "644a9206",
   "metadata": {},
   "source": [
    "## Gradient Descent Algorithms are used to minimize the mean squared error by calculating the best theta parameters"
   ]
  },
  {
   "cell_type": "markdown",
   "id": "14f7b254",
   "metadata": {},
   "source": [
    "## Apply the stochastic gradient descent and mini batch gradient descent algorithms to enhance the accuracy and visualize the cost function.\n"
   ]
  },
  {
   "cell_type": "markdown",
   "id": "a660056a",
   "metadata": {},
   "source": [
    "## stochastic Gradient Descent"
   ]
  },
  {
   "cell_type": "markdown",
   "id": "a5d8da01",
   "metadata": {},
   "source": [
    "## since our columns are on different scale its important to perform the scaling on them"
   ]
  },
  {
   "cell_type": "code",
   "execution_count": 19,
   "id": "613283f3",
   "metadata": {},
   "outputs": [],
   "source": [
    "from sklearn import preprocessing\n",
    "sx = preprocessing.MinMaxScaler()   # object for x \n",
    "sy = preprocessing.MinMaxScaler()\n",
    "\n",
    "# df.shape[0] gives the no. of samples in the dataset\n",
    "scaled_x = sx.fit_transform(data['wt'].values.reshape(data.shape[0],1))\n",
    "scaled_y = sy.fit_transform(data['mpg'].values.reshape(data.shape[0],1))"
   ]
  },
  {
   "cell_type": "code",
   "execution_count": 20,
   "id": "3e8b1815",
   "metadata": {},
   "outputs": [
    {
     "data": {
      "text/plain": [
       "array([[0.28304781],\n",
       "       [0.34824853],\n",
       "       [0.20634109],\n",
       "       [0.43518282],\n",
       "       [0.49271286],\n",
       "       [0.49782664],\n",
       "       [0.52595244],\n",
       "       [0.42879059],\n",
       "       [0.41856303],\n",
       "       [0.49271286],\n",
       "       [0.49271286],\n",
       "       [0.65379698],\n",
       "       [0.56686269],\n",
       "       [0.57964715],\n",
       "       [0.9555101 ],\n",
       "       [1.        ],\n",
       "       [0.97980056],\n",
       "       [0.1756584 ],\n",
       "       [0.02608029],\n",
       "       [0.08233188],\n",
       "       [0.24341601],\n",
       "       [0.51316799],\n",
       "       [0.49143442],\n",
       "       [0.59498849],\n",
       "       [0.59626694],\n",
       "       [0.10790079],\n",
       "       [0.16031705],\n",
       "       [0.        ],\n",
       "       [0.42367681],\n",
       "       [0.32140118],\n",
       "       [0.52595244],\n",
       "       [0.32395807]])"
      ]
     },
     "execution_count": 20,
     "metadata": {},
     "output_type": "execute_result"
    }
   ],
   "source": [
    "scaled_x"
   ]
  },
  {
   "cell_type": "code",
   "execution_count": 21,
   "id": "0aaa28d4",
   "metadata": {},
   "outputs": [
    {
     "data": {
      "text/plain": [
       "array([[0.45106383],\n",
       "       [0.45106383],\n",
       "       [0.52765957],\n",
       "       [0.46808511],\n",
       "       [0.35319149],\n",
       "       [0.32765957],\n",
       "       [0.16595745],\n",
       "       [0.59574468],\n",
       "       [0.52765957],\n",
       "       [0.37446809],\n",
       "       [0.31489362],\n",
       "       [0.25531915],\n",
       "       [0.29361702],\n",
       "       [0.20425532],\n",
       "       [0.        ],\n",
       "       [0.        ],\n",
       "       [0.18297872],\n",
       "       [0.93617021],\n",
       "       [0.85106383],\n",
       "       [1.        ],\n",
       "       [0.47234043],\n",
       "       [0.21702128],\n",
       "       [0.20425532],\n",
       "       [0.12340426],\n",
       "       [0.37446809],\n",
       "       [0.71914894],\n",
       "       [0.66382979],\n",
       "       [0.85106383],\n",
       "       [0.22978723],\n",
       "       [0.39574468],\n",
       "       [0.19574468],\n",
       "       [0.46808511]])"
      ]
     },
     "execution_count": 21,
     "metadata": {},
     "output_type": "execute_result"
    }
   ],
   "source": [
    "scaled_y"
   ]
  },
  {
   "cell_type": "code",
   "execution_count": 22,
   "id": "5c9995b4",
   "metadata": {},
   "outputs": [
    {
     "data": {
      "text/plain": [
       "(32, 1)"
      ]
     },
     "execution_count": 22,
     "metadata": {},
     "output_type": "execute_result"
    }
   ],
   "source": [
    "scaled_y.shape"
   ]
  },
  {
   "cell_type": "code",
   "execution_count": 23,
   "id": "e4ab5adc",
   "metadata": {},
   "outputs": [
    {
     "data": {
      "text/plain": [
       "array([0.45106383, 0.45106383, 0.52765957, 0.46808511, 0.35319149,\n",
       "       0.32765957, 0.16595745, 0.59574468, 0.52765957, 0.37446809,\n",
       "       0.31489362, 0.25531915, 0.29361702, 0.20425532, 0.        ,\n",
       "       0.        , 0.18297872, 0.93617021, 0.85106383, 1.        ,\n",
       "       0.47234043, 0.21702128, 0.20425532, 0.12340426, 0.37446809,\n",
       "       0.71914894, 0.66382979, 0.85106383, 0.22978723, 0.39574468,\n",
       "       0.19574468, 0.46808511])"
      ]
     },
     "execution_count": 23,
     "metadata": {},
     "output_type": "execute_result"
    }
   ],
   "source": [
    "# we are converting the 2D scaled_y to 1D \n",
    "scaled_y.reshape(32,)"
   ]
  },
  {
   "cell_type": "code",
   "execution_count": 24,
   "id": "25ae2907",
   "metadata": {},
   "outputs": [
    {
     "data": {
      "text/plain": [
       "(32, 1)"
      ]
     },
     "execution_count": 24,
     "metadata": {},
     "output_type": "execute_result"
    }
   ],
   "source": [
    "scaled_x.shape"
   ]
  },
  {
   "cell_type": "code",
   "execution_count": 25,
   "id": "8a1a58fa",
   "metadata": {},
   "outputs": [
    {
     "data": {
      "text/plain": [
       "(32, 1)"
      ]
     },
     "execution_count": 25,
     "metadata": {},
     "output_type": "execute_result"
    }
   ],
   "source": [
    "scaled_y.shape"
   ]
  },
  {
   "cell_type": "code",
   "execution_count": 26,
   "id": "c689b235",
   "metadata": {},
   "outputs": [],
   "source": [
    "import random \n",
    "# to select a random sample"
   ]
  },
  {
   "cell_type": "code",
   "execution_count": 27,
   "id": "bf1663f0",
   "metadata": {},
   "outputs": [
    {
     "data": {
      "text/plain": [
       "(array([0.46382803]), 0.18128321084573673, 0.44916736125522366)"
      ]
     },
     "execution_count": 27,
     "metadata": {},
     "output_type": "execute_result"
    }
   ],
   "source": [
    "def stochastic_gradient_descent(X, y_true, epochs, learning_rate = 0.01):\n",
    " \n",
    "    number_of_features = X.shape[1]\n",
    "    \n",
    "    \n",
    "    w = np.ones(shape=(number_of_features)) \n",
    "    b = 0   # bias is 0\n",
    "    total_samples = X.shape[0]\n",
    "    \n",
    "    cost_list = []\n",
    "    epoch_list = []\n",
    "    \n",
    "    for i in range(epochs):    \n",
    "        random_index = random.randint(0,total_samples-1) # random index from total samples\n",
    "        \n",
    "        # selecting the random sample\n",
    "        \n",
    "        sample_x = X[random_index]\n",
    "        sample_y = y_true[random_index]\n",
    "        \n",
    "        y_predicted = np.dot(w, sample_x.T) + b\n",
    "    \n",
    "        w_grad = -(2/total_samples)*(sample_x.T.dot(sample_y-y_predicted))\n",
    "        b_grad = -(2/total_samples)*(sample_y-y_predicted)\n",
    "        \n",
    "        w = w - learning_rate * w_grad\n",
    "        b = b - learning_rate * b_grad\n",
    "        \n",
    "        cost = np.square(sample_y-y_predicted)\n",
    "        \n",
    "        if i%100==0:\n",
    "            cost_list.append(cost)\n",
    "            epoch_list.append(i)\n",
    "        \n",
    "    return w, b, cost, cost_list, epoch_list\n",
    "\n",
    "w_sgd, b_sgd, cost_sgd, cost_list_sgd, epoch_list_sgd = stochastic_gradient_descent(scaled_x,scaled_y.reshape(scaled_y.shape[0],),10000)\n",
    "w_sgd, b_sgd, cost_sgd"
   ]
  },
  {
   "cell_type": "code",
   "execution_count": 28,
   "id": "357d6d1f",
   "metadata": {},
   "outputs": [],
   "source": [
    "def predict(weight,w,b):\n",
    "    scaled_X = sx.transform([[weight]])[0]\n",
    "    \n",
    "    scaled_price = w[0] * scaled_X[0]+ b\n",
    "    # once we get mpg prediction we need to to rescale it back to original value\n",
    "    # also since it returns 2D array, to get single value we need to do value[0][0]\n",
    "    return sy.inverse_transform([[scaled_price]])[0][0] "
   ]
  },
  {
   "cell_type": "code",
   "execution_count": 29,
   "id": "023b3a52",
   "metadata": {
    "scrolled": true
   },
   "outputs": [
    {
     "data": {
      "text/plain": [
       "([0.03759316727727853,\n",
       "  0.21666502592256245,\n",
       "  0.07159655152291915,\n",
       "  0.14569733042329233,\n",
       "  0.07275657270141665,\n",
       "  0.13779386426759233,\n",
       "  0.13489925764657176,\n",
       "  0.018891383666039416,\n",
       "  0.1033192634952782,\n",
       "  0.01566916785123877,\n",
       "  0.017903057105957704,\n",
       "  0.005212330049510236,\n",
       "  0.015054138603058638,\n",
       "  0.49497930417724484,\n",
       "  0.038798817446210374,\n",
       "  0.7187103213424951,\n",
       "  0.011567093369888704,\n",
       "  0.09272845347173216,\n",
       "  0.09097550688278448,\n",
       "  0.10055918115389537,\n",
       "  0.6813392408432327,\n",
       "  0.6109312647517627,\n",
       "  0.019705497815610287,\n",
       "  0.6015471501756976,\n",
       "  0.03912844685150247,\n",
       "  0.04836534692156496,\n",
       "  0.6971793103173967,\n",
       "  0.018321039944448086,\n",
       "  0.07911554539198926,\n",
       "  0.027012695717343646,\n",
       "  0.016811796789890504,\n",
       "  0.0862549196701753,\n",
       "  0.0021454421075156574,\n",
       "  0.0823426071045895,\n",
       "  0.005136143137574681,\n",
       "  0.007544037318385177,\n",
       "  0.08463023132746698,\n",
       "  0.04989679308397066,\n",
       "  0.017955915100253246,\n",
       "  0.1448889597568632,\n",
       "  0.6407575406020325,\n",
       "  0.06329543071954785,\n",
       "  0.007993738178696506,\n",
       "  0.5726640970960021,\n",
       "  0.5616944573699059,\n",
       "  0.008747207147903419,\n",
       "  0.7730055078866287,\n",
       "  0.34216288251891047,\n",
       "  0.6060166405483085,\n",
       "  0.0769677295119345,\n",
       "  0.0018747776714549084,\n",
       "  0.00863685579201127,\n",
       "  0.04998550521640428,\n",
       "  0.008682108738773444,\n",
       "  0.05258649344334279,\n",
       "  0.028393512787414848,\n",
       "  0.03309729928976374,\n",
       "  0.01905720830714126,\n",
       "  0.22298738787833067,\n",
       "  0.5566403745282767,\n",
       "  0.027693287452686875,\n",
       "  0.0074155196241219,\n",
       "  0.05528832035322428,\n",
       "  0.04252190710452272,\n",
       "  0.008259985439857594,\n",
       "  0.4913821575907963,\n",
       "  0.07041804973962741,\n",
       "  0.008096471514472965,\n",
       "  0.07287198219517695,\n",
       "  0.02722904727934231,\n",
       "  0.00896084770741544,\n",
       "  0.025285490395279896,\n",
       "  0.0013263560512346286,\n",
       "  0.5081865334325862,\n",
       "  0.5047513418868276,\n",
       "  0.4616204237204137,\n",
       "  0.2545090229580744,\n",
       "  0.44841296361814553,\n",
       "  0.03961465404475239,\n",
       "  0.051611519497280336,\n",
       "  0.11297974739810186,\n",
       "  0.4623754767431805,\n",
       "  0.0023788707583095956,\n",
       "  0.039555467192015366,\n",
       "  0.038167921335202505,\n",
       "  0.005844468346409666,\n",
       "  0.048789925369879666,\n",
       "  0.40445124377697145,\n",
       "  0.21563250242570095,\n",
       "  0.40826057834056395,\n",
       "  0.18377220737156458,\n",
       "  0.022881429843011235,\n",
       "  0.005941174626284518,\n",
       "  0.4795316298993806,\n",
       "  0.4522897827780375,\n",
       "  0.6282997856217274,\n",
       "  0.020342399011228154,\n",
       "  0.05187997940552666,\n",
       "  0.44055831986210847,\n",
       "  0.39161793380205523],\n",
       " [0,\n",
       "  100,\n",
       "  200,\n",
       "  300,\n",
       "  400,\n",
       "  500,\n",
       "  600,\n",
       "  700,\n",
       "  800,\n",
       "  900,\n",
       "  1000,\n",
       "  1100,\n",
       "  1200,\n",
       "  1300,\n",
       "  1400,\n",
       "  1500,\n",
       "  1600,\n",
       "  1700,\n",
       "  1800,\n",
       "  1900,\n",
       "  2000,\n",
       "  2100,\n",
       "  2200,\n",
       "  2300,\n",
       "  2400,\n",
       "  2500,\n",
       "  2600,\n",
       "  2700,\n",
       "  2800,\n",
       "  2900,\n",
       "  3000,\n",
       "  3100,\n",
       "  3200,\n",
       "  3300,\n",
       "  3400,\n",
       "  3500,\n",
       "  3600,\n",
       "  3700,\n",
       "  3800,\n",
       "  3900,\n",
       "  4000,\n",
       "  4100,\n",
       "  4200,\n",
       "  4300,\n",
       "  4400,\n",
       "  4500,\n",
       "  4600,\n",
       "  4700,\n",
       "  4800,\n",
       "  4900,\n",
       "  5000,\n",
       "  5100,\n",
       "  5200,\n",
       "  5300,\n",
       "  5400,\n",
       "  5500,\n",
       "  5600,\n",
       "  5700,\n",
       "  5800,\n",
       "  5900,\n",
       "  6000,\n",
       "  6100,\n",
       "  6200,\n",
       "  6300,\n",
       "  6400,\n",
       "  6500,\n",
       "  6600,\n",
       "  6700,\n",
       "  6800,\n",
       "  6900,\n",
       "  7000,\n",
       "  7100,\n",
       "  7200,\n",
       "  7300,\n",
       "  7400,\n",
       "  7500,\n",
       "  7600,\n",
       "  7700,\n",
       "  7800,\n",
       "  7900,\n",
       "  8000,\n",
       "  8100,\n",
       "  8200,\n",
       "  8300,\n",
       "  8400,\n",
       "  8500,\n",
       "  8600,\n",
       "  8700,\n",
       "  8800,\n",
       "  8900,\n",
       "  9000,\n",
       "  9100,\n",
       "  9200,\n",
       "  9300,\n",
       "  9400,\n",
       "  9500,\n",
       "  9600,\n",
       "  9700,\n",
       "  9800,\n",
       "  9900])"
      ]
     },
     "execution_count": 29,
     "metadata": {},
     "output_type": "execute_result"
    }
   ],
   "source": [
    "cost_list_sgd,epoch_list_sgd"
   ]
  },
  {
   "cell_type": "code",
   "execution_count": 30,
   "id": "4b0df53f",
   "metadata": {},
   "outputs": [
    {
     "data": {
      "text/plain": [
       "100"
      ]
     },
     "execution_count": 30,
     "metadata": {},
     "output_type": "execute_result"
    }
   ],
   "source": [
    "len(epoch_list_sgd)"
   ]
  },
  {
   "cell_type": "markdown",
   "id": "85c2d281",
   "metadata": {},
   "source": [
    "## visualize the cost function of stochastic gradient descent"
   ]
  },
  {
   "cell_type": "code",
   "execution_count": 33,
   "id": "4be40b9c",
   "metadata": {},
   "outputs": [
    {
     "data": {
      "text/plain": [
       "Text(0, 0.5, 'cost_sgd')"
      ]
     },
     "execution_count": 33,
     "metadata": {},
     "output_type": "execute_result"
    },
    {
     "data": {
      "image/png": "[encoded data removed]",
      "text/plain": [
       "<Figure size 432x288 with 1 Axes>"
      ]
     },
     "metadata": {
      "needs_background": "light"
     },
     "output_type": "display_data"
    }
   ],
   "source": [
    "plt.plot(epoch_list_sgd,cost_list_sgd)\n",
    "plt.xlabel(\"epoch\")\n",
    "plt.ylabel(\"cost_sgd\")"
   ]
  },
  {
   "cell_type": "code",
   "execution_count": 34,
   "id": "5c47e4a5",
   "metadata": {},
   "outputs": [
    {
     "data": {
      "text/plain": [
       "19.333955166435988"
      ]
     },
     "execution_count": 34,
     "metadata": {},
     "output_type": "execute_result"
    }
   ],
   "source": [
    "predict(3.19,w_sgd,b_sgd)   # predicting the value"
   ]
  },
  {
   "cell_type": "markdown",
   "id": "0834d148",
   "metadata": {},
   "source": [
    "## mini-batch Gradient Descent"
   ]
  },
  {
   "cell_type": "code",
   "execution_count": 35,
   "id": "2945f44f",
   "metadata": {},
   "outputs": [
    {
     "data": {
      "text/plain": [
       "(array([-0.08941713]), 0.43508670555087914, 0.006059334140923359)"
      ]
     },
     "execution_count": 35,
     "metadata": {},
     "output_type": "execute_result"
    }
   ],
   "source": [
    "def mini_batch_gradient_descent(X, y_true, epochs = 100, batch_size = 5, learning_rate = 0.01):\n",
    "    \n",
    "    number_of_features = X.shape[1]\n",
    "    \n",
    "    w = np.ones(shape=(number_of_features)) \n",
    "    b = 0\n",
    "    total_samples = X.shape[0] # number of rows in X\n",
    "    \n",
    "    if batch_size > total_samples: # In this case mini batch becomes same as batch gradient descent\n",
    "        batch_size = total_samples\n",
    "        \n",
    "    cost_list_mini = []\n",
    "    epoch_list_mini = []\n",
    "    \n",
    "    num_batches = int(total_samples/batch_size)\n",
    "    \n",
    "    for i in range(epochs):    \n",
    "        random_indices = np.random.permutation(total_samples)\n",
    "        X_temp = X[random_indices]\n",
    "        y_temp = y_true[random_indices]\n",
    "        \n",
    "        for j in range(0,total_samples,batch_size):\n",
    "            Xj = X_temp[j:j+batch_size]\n",
    "            yj = y_temp[j:j+batch_size]\n",
    "            y_predicted = np.dot(w, Xj.T) + b\n",
    "            \n",
    "            w_grad = -(2/len(Xj))*(Xj.T.dot(yj-y_predicted))\n",
    "            b_grad = -(2/len(Xj))*np.sum(yj-y_predicted)\n",
    "            \n",
    "            w = w - learning_rate * w_grad\n",
    "            b = b - learning_rate * b_grad\n",
    "                \n",
    "            cost = np.mean(np.square(yj-y_predicted)) # MSE (Mean Squared Error)\n",
    "        \n",
    "        if i%10==0:\n",
    "            cost_list_mini.append(cost)\n",
    "            epoch_list_mini.append(i)\n",
    "        \n",
    "    return w, b, cost, cost_list_mini, epoch_list_mini\n",
    "\n",
    "w_mini, b_mini, cost, cost_list_mini, epoch_list_mini = mini_batch_gradient_descent(\n",
    "    scaled_x,\n",
    "    scaled_y.reshape(scaled_y.shape[0],),\n",
    "    epochs = 120,\n",
    "    batch_size = 5\n",
    ")\n",
    "w_mini, b_mini, cost"
   ]
  },
  {
   "cell_type": "code",
   "execution_count": 39,
   "id": "fefed7a5",
   "metadata": {},
   "outputs": [
    {
     "data": {
      "text/plain": [
       "[<matplotlib.lines.Line2D at 0x1f8a6724700>]"
      ]
     },
     "execution_count": 39,
     "metadata": {},
     "output_type": "execute_result"
    },
    {
     "data": {
      "image/png": "[encoded data removed]",
      "text/plain": [
       "<Figure size 432x288 with 1 Axes>"
      ]
     },
     "metadata": {
      "needs_background": "light"
     },
     "output_type": "display_data"
    }
   ],
   "source": [
    "plt.xlabel(\"epoch\")\n",
    "plt.ylabel(\"cost_mini_gd\")\n",
    "plt.plot(epoch_list_mini,cost_list_mini)"
   ]
  },
  {
   "cell_type": "code",
   "execution_count": null,
   "id": "123805e1",
   "metadata": {},
   "outputs": [],
   "source": []
  },
  {
   "cell_type": "code",
   "execution_count": null,
   "id": "511c5166",
   "metadata": {},
   "outputs": [],
   "source": []
  },
  {
   "cell_type": "code",
   "execution_count": null,
   "id": "ecdcef8d",
   "metadata": {},
   "outputs": [],
   "source": []
  }
 ],
 "metadata": {
  "kernelspec": {
   "display_name": "Python 3",
   "language": "python",
   "name": "python3"
  },
  "language_info": {
   "codemirror_mode": {
    "name": "ipython",
    "version": 3
   },
   "file_extension": ".py",
   "mimetype": "text/x-python",
   "name": "python",
   "nbconvert_exporter": "python",
   "pygments_lexer": "ipython3",
   "version": "3.8.8"
  }
 },
 "nbformat": 4,
 "nbformat_minor": 5
}
