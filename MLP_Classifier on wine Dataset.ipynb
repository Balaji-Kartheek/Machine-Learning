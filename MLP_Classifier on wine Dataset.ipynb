{
 "cells": [
  {
   "cell_type": "markdown",
   "id": "cb052593",
   "metadata": {},
   "source": [
    "#### Balaji Kartheek(200968080)\n"
   ]
  },
  {
   "cell_type": "code",
   "execution_count": 2,
   "id": "cb5ab657",
   "metadata": {},
   "outputs": [],
   "source": [
    "import pandas as pd\n",
    "import matplotlib.pyplot as plt\n",
    "import seaborn as sns\n",
    "%matplotlib inline"
   ]
  },
  {
   "cell_type": "code",
   "execution_count": 3,
   "id": "de3e3b22",
   "metadata": {},
   "outputs": [
    {
     "data": {
      "text/html": [
       "<div>\n",
       "<style scoped>\n",
       "    .dataframe tbody tr th:only-of-type {\n",
       "        vertical-align: middle;\n",
       "    }\n",
       "\n",
       "    .dataframe tbody tr th {\n",
       "        vertical-align: top;\n",
       "    }\n",
       "\n",
       "    .dataframe thead th {\n",
       "        text-align: right;\n",
       "    }\n",
       "</style>\n",
       "<table border=\"1\" class=\"dataframe\">\n",
       "  <thead>\n",
       "    <tr style=\"text-align: right;\">\n",
       "      <th></th>\n",
       "      <th>Class</th>\n",
       "      <th>Alcohol</th>\n",
       "      <th>Malic acid</th>\n",
       "      <th>Ash</th>\n",
       "      <th>Alcalinity of ash</th>\n",
       "      <th>Magnesium</th>\n",
       "      <th>Total phenols</th>\n",
       "      <th>Flavanoids</th>\n",
       "      <th>Nonflavanoid phenols</th>\n",
       "      <th>Proanthocyanins</th>\n",
       "      <th>Color intensity</th>\n",
       "      <th>Hue</th>\n",
       "      <th>OD280/OD315 of diluted wines</th>\n",
       "      <th>Proline</th>\n",
       "    </tr>\n",
       "  </thead>\n",
       "  <tbody>\n",
       "    <tr>\n",
       "      <th>0</th>\n",
       "      <td>1</td>\n",
       "      <td>14.23</td>\n",
       "      <td>1.71</td>\n",
       "      <td>2.43</td>\n",
       "      <td>15.6</td>\n",
       "      <td>127</td>\n",
       "      <td>2.80</td>\n",
       "      <td>3.06</td>\n",
       "      <td>0.28</td>\n",
       "      <td>2.29</td>\n",
       "      <td>5.64</td>\n",
       "      <td>1.04</td>\n",
       "      <td>3.92</td>\n",
       "      <td>1065</td>\n",
       "    </tr>\n",
       "    <tr>\n",
       "      <th>1</th>\n",
       "      <td>1</td>\n",
       "      <td>13.20</td>\n",
       "      <td>1.78</td>\n",
       "      <td>2.14</td>\n",
       "      <td>11.2</td>\n",
       "      <td>100</td>\n",
       "      <td>2.65</td>\n",
       "      <td>2.76</td>\n",
       "      <td>0.26</td>\n",
       "      <td>1.28</td>\n",
       "      <td>4.38</td>\n",
       "      <td>1.05</td>\n",
       "      <td>3.40</td>\n",
       "      <td>1050</td>\n",
       "    </tr>\n",
       "    <tr>\n",
       "      <th>2</th>\n",
       "      <td>1</td>\n",
       "      <td>13.16</td>\n",
       "      <td>2.36</td>\n",
       "      <td>2.67</td>\n",
       "      <td>18.6</td>\n",
       "      <td>101</td>\n",
       "      <td>2.80</td>\n",
       "      <td>3.24</td>\n",
       "      <td>0.30</td>\n",
       "      <td>2.81</td>\n",
       "      <td>5.68</td>\n",
       "      <td>1.03</td>\n",
       "      <td>3.17</td>\n",
       "      <td>1185</td>\n",
       "    </tr>\n",
       "    <tr>\n",
       "      <th>3</th>\n",
       "      <td>1</td>\n",
       "      <td>14.37</td>\n",
       "      <td>1.95</td>\n",
       "      <td>2.50</td>\n",
       "      <td>16.8</td>\n",
       "      <td>113</td>\n",
       "      <td>3.85</td>\n",
       "      <td>3.49</td>\n",
       "      <td>0.24</td>\n",
       "      <td>2.18</td>\n",
       "      <td>7.80</td>\n",
       "      <td>0.86</td>\n",
       "      <td>3.45</td>\n",
       "      <td>1480</td>\n",
       "    </tr>\n",
       "    <tr>\n",
       "      <th>4</th>\n",
       "      <td>1</td>\n",
       "      <td>13.24</td>\n",
       "      <td>2.59</td>\n",
       "      <td>2.87</td>\n",
       "      <td>21.0</td>\n",
       "      <td>118</td>\n",
       "      <td>2.80</td>\n",
       "      <td>2.69</td>\n",
       "      <td>0.39</td>\n",
       "      <td>1.82</td>\n",
       "      <td>4.32</td>\n",
       "      <td>1.04</td>\n",
       "      <td>2.93</td>\n",
       "      <td>735</td>\n",
       "    </tr>\n",
       "  </tbody>\n",
       "</table>\n",
       "</div>"
      ],
      "text/plain": [
       "   Class  Alcohol  Malic acid   Ash  Alcalinity of ash  Magnesium  \\\n",
       "0      1    14.23        1.71  2.43               15.6        127   \n",
       "1      1    13.20        1.78  2.14               11.2        100   \n",
       "2      1    13.16        2.36  2.67               18.6        101   \n",
       "3      1    14.37        1.95  2.50               16.8        113   \n",
       "4      1    13.24        2.59  2.87               21.0        118   \n",
       "\n",
       "   Total phenols  Flavanoids  Nonflavanoid phenols  Proanthocyanins  \\\n",
       "0           2.80        3.06                  0.28             2.29   \n",
       "1           2.65        2.76                  0.26             1.28   \n",
       "2           2.80        3.24                  0.30             2.81   \n",
       "3           3.85        3.49                  0.24             2.18   \n",
       "4           2.80        2.69                  0.39             1.82   \n",
       "\n",
       "   Color intensity   Hue  OD280/OD315 of diluted wines  Proline   \n",
       "0             5.64  1.04                          3.92      1065  \n",
       "1             4.38  1.05                          3.40      1050  \n",
       "2             5.68  1.03                          3.17      1185  \n",
       "3             7.80  0.86                          3.45      1480  \n",
       "4             4.32  1.04                          2.93       735  "
      ]
     },
     "execution_count": 3,
     "metadata": {},
     "output_type": "execute_result"
    }
   ],
   "source": [
    "df = pd.read_csv(r\"C:\\Users\\tbala\\OneDrive\\Desktop\\Academics\\DataSets\\wine.csv\")\n",
    "df.head()"
   ]
  },
  {
   "cell_type": "code",
   "execution_count": 4,
   "id": "3df29d63",
   "metadata": {},
   "outputs": [
    {
     "name": "stdout",
     "output_type": "stream",
     "text": [
      "<class 'pandas.core.frame.DataFrame'>\n",
      "RangeIndex: 178 entries, 0 to 177\n",
      "Data columns (total 14 columns):\n",
      " #   Column                        Non-Null Count  Dtype  \n",
      "---  ------                        --------------  -----  \n",
      " 0   Class                         178 non-null    int64  \n",
      " 1   Alcohol                       178 non-null    float64\n",
      " 2   Malic acid                    178 non-null    float64\n",
      " 3   Ash                           178 non-null    float64\n",
      " 4   Alcalinity of ash             178 non-null    float64\n",
      " 5   Magnesium                     178 non-null    int64  \n",
      " 6   Total phenols                 178 non-null    float64\n",
      " 7   Flavanoids                    178 non-null    float64\n",
      " 8   Nonflavanoid phenols          178 non-null    float64\n",
      " 9   Proanthocyanins               178 non-null    float64\n",
      " 10  Color intensity               178 non-null    float64\n",
      " 11  Hue                           178 non-null    float64\n",
      " 12  OD280/OD315 of diluted wines  178 non-null    float64\n",
      " 13  Proline                       178 non-null    int64  \n",
      "dtypes: float64(11), int64(3)\n",
      "memory usage: 19.6 KB\n"
     ]
    }
   ],
   "source": [
    "df.info()"
   ]
  },
  {
   "cell_type": "code",
   "execution_count": 5,
   "id": "b2c69cd5",
   "metadata": {},
   "outputs": [
    {
     "data": {
      "text/html": [
       "<div>\n",
       "<style scoped>\n",
       "    .dataframe tbody tr th:only-of-type {\n",
       "        vertical-align: middle;\n",
       "    }\n",
       "\n",
       "    .dataframe tbody tr th {\n",
       "        vertical-align: top;\n",
       "    }\n",
       "\n",
       "    .dataframe thead th {\n",
       "        text-align: right;\n",
       "    }\n",
       "</style>\n",
       "<table border=\"1\" class=\"dataframe\">\n",
       "  <thead>\n",
       "    <tr style=\"text-align: right;\">\n",
       "      <th></th>\n",
       "      <th>Class</th>\n",
       "      <th>Alcohol</th>\n",
       "      <th>Malic acid</th>\n",
       "      <th>Ash</th>\n",
       "      <th>Alcalinity of ash</th>\n",
       "      <th>Magnesium</th>\n",
       "      <th>Total phenols</th>\n",
       "      <th>Flavanoids</th>\n",
       "      <th>Nonflavanoid phenols</th>\n",
       "      <th>Proanthocyanins</th>\n",
       "      <th>Color intensity</th>\n",
       "      <th>Hue</th>\n",
       "      <th>OD280/OD315 of diluted wines</th>\n",
       "      <th>Proline</th>\n",
       "    </tr>\n",
       "  </thead>\n",
       "  <tbody>\n",
       "    <tr>\n",
       "      <th>count</th>\n",
       "      <td>178.000000</td>\n",
       "      <td>178.000000</td>\n",
       "      <td>178.000000</td>\n",
       "      <td>178.000000</td>\n",
       "      <td>178.000000</td>\n",
       "      <td>178.000000</td>\n",
       "      <td>178.000000</td>\n",
       "      <td>178.000000</td>\n",
       "      <td>178.000000</td>\n",
       "      <td>178.000000</td>\n",
       "      <td>178.000000</td>\n",
       "      <td>178.000000</td>\n",
       "      <td>178.000000</td>\n",
       "      <td>178.000000</td>\n",
       "    </tr>\n",
       "    <tr>\n",
       "      <th>mean</th>\n",
       "      <td>1.938202</td>\n",
       "      <td>13.000618</td>\n",
       "      <td>2.336348</td>\n",
       "      <td>2.366517</td>\n",
       "      <td>19.494944</td>\n",
       "      <td>99.741573</td>\n",
       "      <td>2.295112</td>\n",
       "      <td>2.029270</td>\n",
       "      <td>0.361854</td>\n",
       "      <td>1.590899</td>\n",
       "      <td>5.058090</td>\n",
       "      <td>0.957449</td>\n",
       "      <td>2.611685</td>\n",
       "      <td>746.893258</td>\n",
       "    </tr>\n",
       "    <tr>\n",
       "      <th>std</th>\n",
       "      <td>0.775035</td>\n",
       "      <td>0.811827</td>\n",
       "      <td>1.117146</td>\n",
       "      <td>0.274344</td>\n",
       "      <td>3.339564</td>\n",
       "      <td>14.282484</td>\n",
       "      <td>0.625851</td>\n",
       "      <td>0.998859</td>\n",
       "      <td>0.124453</td>\n",
       "      <td>0.572359</td>\n",
       "      <td>2.318286</td>\n",
       "      <td>0.228572</td>\n",
       "      <td>0.709990</td>\n",
       "      <td>314.907474</td>\n",
       "    </tr>\n",
       "    <tr>\n",
       "      <th>min</th>\n",
       "      <td>1.000000</td>\n",
       "      <td>11.030000</td>\n",
       "      <td>0.740000</td>\n",
       "      <td>1.360000</td>\n",
       "      <td>10.600000</td>\n",
       "      <td>70.000000</td>\n",
       "      <td>0.980000</td>\n",
       "      <td>0.340000</td>\n",
       "      <td>0.130000</td>\n",
       "      <td>0.410000</td>\n",
       "      <td>1.280000</td>\n",
       "      <td>0.480000</td>\n",
       "      <td>1.270000</td>\n",
       "      <td>278.000000</td>\n",
       "    </tr>\n",
       "    <tr>\n",
       "      <th>25%</th>\n",
       "      <td>1.000000</td>\n",
       "      <td>12.362500</td>\n",
       "      <td>1.602500</td>\n",
       "      <td>2.210000</td>\n",
       "      <td>17.200000</td>\n",
       "      <td>88.000000</td>\n",
       "      <td>1.742500</td>\n",
       "      <td>1.205000</td>\n",
       "      <td>0.270000</td>\n",
       "      <td>1.250000</td>\n",
       "      <td>3.220000</td>\n",
       "      <td>0.782500</td>\n",
       "      <td>1.937500</td>\n",
       "      <td>500.500000</td>\n",
       "    </tr>\n",
       "    <tr>\n",
       "      <th>50%</th>\n",
       "      <td>2.000000</td>\n",
       "      <td>13.050000</td>\n",
       "      <td>1.865000</td>\n",
       "      <td>2.360000</td>\n",
       "      <td>19.500000</td>\n",
       "      <td>98.000000</td>\n",
       "      <td>2.355000</td>\n",
       "      <td>2.135000</td>\n",
       "      <td>0.340000</td>\n",
       "      <td>1.555000</td>\n",
       "      <td>4.690000</td>\n",
       "      <td>0.965000</td>\n",
       "      <td>2.780000</td>\n",
       "      <td>673.500000</td>\n",
       "    </tr>\n",
       "    <tr>\n",
       "      <th>75%</th>\n",
       "      <td>3.000000</td>\n",
       "      <td>13.677500</td>\n",
       "      <td>3.082500</td>\n",
       "      <td>2.557500</td>\n",
       "      <td>21.500000</td>\n",
       "      <td>107.000000</td>\n",
       "      <td>2.800000</td>\n",
       "      <td>2.875000</td>\n",
       "      <td>0.437500</td>\n",
       "      <td>1.950000</td>\n",
       "      <td>6.200000</td>\n",
       "      <td>1.120000</td>\n",
       "      <td>3.170000</td>\n",
       "      <td>985.000000</td>\n",
       "    </tr>\n",
       "    <tr>\n",
       "      <th>max</th>\n",
       "      <td>3.000000</td>\n",
       "      <td>14.830000</td>\n",
       "      <td>5.800000</td>\n",
       "      <td>3.230000</td>\n",
       "      <td>30.000000</td>\n",
       "      <td>162.000000</td>\n",
       "      <td>3.880000</td>\n",
       "      <td>5.080000</td>\n",
       "      <td>0.660000</td>\n",
       "      <td>3.580000</td>\n",
       "      <td>13.000000</td>\n",
       "      <td>1.710000</td>\n",
       "      <td>4.000000</td>\n",
       "      <td>1680.000000</td>\n",
       "    </tr>\n",
       "  </tbody>\n",
       "</table>\n",
       "</div>"
      ],
      "text/plain": [
       "            Class     Alcohol  Malic acid         Ash  Alcalinity of ash  \\\n",
       "count  178.000000  178.000000  178.000000  178.000000         178.000000   \n",
       "mean     1.938202   13.000618    2.336348    2.366517          19.494944   \n",
       "std      0.775035    0.811827    1.117146    0.274344           3.339564   \n",
       "min      1.000000   11.030000    0.740000    1.360000          10.600000   \n",
       "25%      1.000000   12.362500    1.602500    2.210000          17.200000   \n",
       "50%      2.000000   13.050000    1.865000    2.360000          19.500000   \n",
       "75%      3.000000   13.677500    3.082500    2.557500          21.500000   \n",
       "max      3.000000   14.830000    5.800000    3.230000          30.000000   \n",
       "\n",
       "        Magnesium  Total phenols  Flavanoids  Nonflavanoid phenols  \\\n",
       "count  178.000000     178.000000  178.000000            178.000000   \n",
       "mean    99.741573       2.295112    2.029270              0.361854   \n",
       "std     14.282484       0.625851    0.998859              0.124453   \n",
       "min     70.000000       0.980000    0.340000              0.130000   \n",
       "25%     88.000000       1.742500    1.205000              0.270000   \n",
       "50%     98.000000       2.355000    2.135000              0.340000   \n",
       "75%    107.000000       2.800000    2.875000              0.437500   \n",
       "max    162.000000       3.880000    5.080000              0.660000   \n",
       "\n",
       "       Proanthocyanins  Color intensity         Hue  \\\n",
       "count       178.000000       178.000000  178.000000   \n",
       "mean          1.590899         5.058090    0.957449   \n",
       "std           0.572359         2.318286    0.228572   \n",
       "min           0.410000         1.280000    0.480000   \n",
       "25%           1.250000         3.220000    0.782500   \n",
       "50%           1.555000         4.690000    0.965000   \n",
       "75%           1.950000         6.200000    1.120000   \n",
       "max           3.580000        13.000000    1.710000   \n",
       "\n",
       "       OD280/OD315 of diluted wines     Proline   \n",
       "count                    178.000000   178.000000  \n",
       "mean                       2.611685   746.893258  \n",
       "std                        0.709990   314.907474  \n",
       "min                        1.270000   278.000000  \n",
       "25%                        1.937500   500.500000  \n",
       "50%                        2.780000   673.500000  \n",
       "75%                        3.170000   985.000000  \n",
       "max                        4.000000  1680.000000  "
      ]
     },
     "execution_count": 5,
     "metadata": {},
     "output_type": "execute_result"
    }
   ],
   "source": [
    "df.describe()"
   ]
  },
  {
   "cell_type": "code",
   "execution_count": 6,
   "id": "aad6c1b7",
   "metadata": {},
   "outputs": [
    {
     "data": {
      "text/plain": [
       "Class                           0\n",
       "Alcohol                         0\n",
       "Malic acid                      0\n",
       "Ash                             0\n",
       "Alcalinity of ash               0\n",
       "Magnesium                       0\n",
       "Total phenols                   0\n",
       "Flavanoids                      0\n",
       "Nonflavanoid phenols            0\n",
       "Proanthocyanins                 0\n",
       "Color intensity                 0\n",
       "Hue                             0\n",
       "OD280/OD315 of diluted wines    0\n",
       "Proline                         0\n",
       "dtype: int64"
      ]
     },
     "execution_count": 6,
     "metadata": {},
     "output_type": "execute_result"
    }
   ],
   "source": [
    "df.isnull().sum()"
   ]
  },
  {
   "cell_type": "code",
   "execution_count": 8,
   "id": "16dddae5",
   "metadata": {},
   "outputs": [
    {
     "data": {
      "text/plain": [
       "Class                             3\n",
       "Alcohol                         126\n",
       "Malic acid                      133\n",
       "Ash                              79\n",
       "Alcalinity of ash                63\n",
       "Magnesium                        53\n",
       "Total phenols                    97\n",
       "Flavanoids                      132\n",
       "Nonflavanoid phenols             39\n",
       "Proanthocyanins                 101\n",
       "Color intensity                 132\n",
       "Hue                              78\n",
       "OD280/OD315 of diluted wines    122\n",
       "Proline                         121\n",
       "dtype: int64"
      ]
     },
     "execution_count": 8,
     "metadata": {},
     "output_type": "execute_result"
    }
   ],
   "source": [
    "df.nunique()"
   ]
  },
  {
   "cell_type": "markdown",
   "id": "cf0220cb",
   "metadata": {},
   "source": [
    "## 6. Write down the meta information about the “wine.csv” data file available in the UCI repository, https://archive.ics.uci.edu/ml/datasets/Wine.\n"
   ]
  },
  {
   "cell_type": "markdown",
   "id": "9fccae5a",
   "metadata": {},
   "source": [
    "### These data are the results of a chemical analysis of wines grown in the same region in Italy but derived from three different cultivars. The analysis determined the quantities of 13 constituents found in each of the three types of wines.I think that the initial data set had around 30 variables, but for some reason I only have the 13 dimensional version.\n",
    "### 1) Alcohol\n",
    "### 2) Malic acid\n",
    "### 3) Ash\n",
    "### 4) Alcalinity of ash\n",
    "### 5) Magnesium\n",
    "### 6) Total phenols\n",
    "### 7) Flavanoids\n",
    "### 8) Nonflavanoid phenols\n",
    "### 9) Proanthocyanins\n",
    "### 10)Color intensity\n",
    "### 11)Hue\n",
    "### 12)OD280/OD315 of diluted wines\n",
    "### 13)Proline\n",
    "\n",
    "### In a classification context, this is a well posed problem with \"well behaved\" class structures. A good data set for first testing of a new classifier, but not very challenging."
   ]
  },
  {
   "cell_type": "markdown",
   "id": "34a6e7f5",
   "metadata": {},
   "source": [
    "## 7. Tabulate and visualize the distribution of the numeric variables."
   ]
  },
  {
   "cell_type": "code",
   "execution_count": 9,
   "id": "6d4a77f4",
   "metadata": {},
   "outputs": [
    {
     "data": {
      "text/html": [
       "<div>\n",
       "<style scoped>\n",
       "    .dataframe tbody tr th:only-of-type {\n",
       "        vertical-align: middle;\n",
       "    }\n",
       "\n",
       "    .dataframe tbody tr th {\n",
       "        vertical-align: top;\n",
       "    }\n",
       "\n",
       "    .dataframe thead th {\n",
       "        text-align: right;\n",
       "    }\n",
       "</style>\n",
       "<table border=\"1\" class=\"dataframe\">\n",
       "  <thead>\n",
       "    <tr style=\"text-align: right;\">\n",
       "      <th></th>\n",
       "      <th>Class</th>\n",
       "      <th>Alcohol</th>\n",
       "      <th>Malic acid</th>\n",
       "      <th>Ash</th>\n",
       "      <th>Alcalinity of ash</th>\n",
       "      <th>Magnesium</th>\n",
       "      <th>Total phenols</th>\n",
       "      <th>Flavanoids</th>\n",
       "      <th>Nonflavanoid phenols</th>\n",
       "      <th>Proanthocyanins</th>\n",
       "      <th>Color intensity</th>\n",
       "      <th>Hue</th>\n",
       "      <th>OD280/OD315 of diluted wines</th>\n",
       "      <th>Proline</th>\n",
       "    </tr>\n",
       "  </thead>\n",
       "  <tbody>\n",
       "    <tr>\n",
       "      <th>count</th>\n",
       "      <td>178.000000</td>\n",
       "      <td>178.000000</td>\n",
       "      <td>178.000000</td>\n",
       "      <td>178.000000</td>\n",
       "      <td>178.000000</td>\n",
       "      <td>178.000000</td>\n",
       "      <td>178.000000</td>\n",
       "      <td>178.000000</td>\n",
       "      <td>178.000000</td>\n",
       "      <td>178.000000</td>\n",
       "      <td>178.000000</td>\n",
       "      <td>178.000000</td>\n",
       "      <td>178.000000</td>\n",
       "      <td>178.000000</td>\n",
       "    </tr>\n",
       "    <tr>\n",
       "      <th>mean</th>\n",
       "      <td>1.938202</td>\n",
       "      <td>13.000618</td>\n",
       "      <td>2.336348</td>\n",
       "      <td>2.366517</td>\n",
       "      <td>19.494944</td>\n",
       "      <td>99.741573</td>\n",
       "      <td>2.295112</td>\n",
       "      <td>2.029270</td>\n",
       "      <td>0.361854</td>\n",
       "      <td>1.590899</td>\n",
       "      <td>5.058090</td>\n",
       "      <td>0.957449</td>\n",
       "      <td>2.611685</td>\n",
       "      <td>746.893258</td>\n",
       "    </tr>\n",
       "    <tr>\n",
       "      <th>std</th>\n",
       "      <td>0.775035</td>\n",
       "      <td>0.811827</td>\n",
       "      <td>1.117146</td>\n",
       "      <td>0.274344</td>\n",
       "      <td>3.339564</td>\n",
       "      <td>14.282484</td>\n",
       "      <td>0.625851</td>\n",
       "      <td>0.998859</td>\n",
       "      <td>0.124453</td>\n",
       "      <td>0.572359</td>\n",
       "      <td>2.318286</td>\n",
       "      <td>0.228572</td>\n",
       "      <td>0.709990</td>\n",
       "      <td>314.907474</td>\n",
       "    </tr>\n",
       "    <tr>\n",
       "      <th>min</th>\n",
       "      <td>1.000000</td>\n",
       "      <td>11.030000</td>\n",
       "      <td>0.740000</td>\n",
       "      <td>1.360000</td>\n",
       "      <td>10.600000</td>\n",
       "      <td>70.000000</td>\n",
       "      <td>0.980000</td>\n",
       "      <td>0.340000</td>\n",
       "      <td>0.130000</td>\n",
       "      <td>0.410000</td>\n",
       "      <td>1.280000</td>\n",
       "      <td>0.480000</td>\n",
       "      <td>1.270000</td>\n",
       "      <td>278.000000</td>\n",
       "    </tr>\n",
       "    <tr>\n",
       "      <th>25%</th>\n",
       "      <td>1.000000</td>\n",
       "      <td>12.362500</td>\n",
       "      <td>1.602500</td>\n",
       "      <td>2.210000</td>\n",
       "      <td>17.200000</td>\n",
       "      <td>88.000000</td>\n",
       "      <td>1.742500</td>\n",
       "      <td>1.205000</td>\n",
       "      <td>0.270000</td>\n",
       "      <td>1.250000</td>\n",
       "      <td>3.220000</td>\n",
       "      <td>0.782500</td>\n",
       "      <td>1.937500</td>\n",
       "      <td>500.500000</td>\n",
       "    </tr>\n",
       "    <tr>\n",
       "      <th>50%</th>\n",
       "      <td>2.000000</td>\n",
       "      <td>13.050000</td>\n",
       "      <td>1.865000</td>\n",
       "      <td>2.360000</td>\n",
       "      <td>19.500000</td>\n",
       "      <td>98.000000</td>\n",
       "      <td>2.355000</td>\n",
       "      <td>2.135000</td>\n",
       "      <td>0.340000</td>\n",
       "      <td>1.555000</td>\n",
       "      <td>4.690000</td>\n",
       "      <td>0.965000</td>\n",
       "      <td>2.780000</td>\n",
       "      <td>673.500000</td>\n",
       "    </tr>\n",
       "    <tr>\n",
       "      <th>75%</th>\n",
       "      <td>3.000000</td>\n",
       "      <td>13.677500</td>\n",
       "      <td>3.082500</td>\n",
       "      <td>2.557500</td>\n",
       "      <td>21.500000</td>\n",
       "      <td>107.000000</td>\n",
       "      <td>2.800000</td>\n",
       "      <td>2.875000</td>\n",
       "      <td>0.437500</td>\n",
       "      <td>1.950000</td>\n",
       "      <td>6.200000</td>\n",
       "      <td>1.120000</td>\n",
       "      <td>3.170000</td>\n",
       "      <td>985.000000</td>\n",
       "    </tr>\n",
       "    <tr>\n",
       "      <th>max</th>\n",
       "      <td>3.000000</td>\n",
       "      <td>14.830000</td>\n",
       "      <td>5.800000</td>\n",
       "      <td>3.230000</td>\n",
       "      <td>30.000000</td>\n",
       "      <td>162.000000</td>\n",
       "      <td>3.880000</td>\n",
       "      <td>5.080000</td>\n",
       "      <td>0.660000</td>\n",
       "      <td>3.580000</td>\n",
       "      <td>13.000000</td>\n",
       "      <td>1.710000</td>\n",
       "      <td>4.000000</td>\n",
       "      <td>1680.000000</td>\n",
       "    </tr>\n",
       "  </tbody>\n",
       "</table>\n",
       "</div>"
      ],
      "text/plain": [
       "            Class     Alcohol  Malic acid         Ash  Alcalinity of ash  \\\n",
       "count  178.000000  178.000000  178.000000  178.000000         178.000000   \n",
       "mean     1.938202   13.000618    2.336348    2.366517          19.494944   \n",
       "std      0.775035    0.811827    1.117146    0.274344           3.339564   \n",
       "min      1.000000   11.030000    0.740000    1.360000          10.600000   \n",
       "25%      1.000000   12.362500    1.602500    2.210000          17.200000   \n",
       "50%      2.000000   13.050000    1.865000    2.360000          19.500000   \n",
       "75%      3.000000   13.677500    3.082500    2.557500          21.500000   \n",
       "max      3.000000   14.830000    5.800000    3.230000          30.000000   \n",
       "\n",
       "        Magnesium  Total phenols  Flavanoids  Nonflavanoid phenols  \\\n",
       "count  178.000000     178.000000  178.000000            178.000000   \n",
       "mean    99.741573       2.295112    2.029270              0.361854   \n",
       "std     14.282484       0.625851    0.998859              0.124453   \n",
       "min     70.000000       0.980000    0.340000              0.130000   \n",
       "25%     88.000000       1.742500    1.205000              0.270000   \n",
       "50%     98.000000       2.355000    2.135000              0.340000   \n",
       "75%    107.000000       2.800000    2.875000              0.437500   \n",
       "max    162.000000       3.880000    5.080000              0.660000   \n",
       "\n",
       "       Proanthocyanins  Color intensity         Hue  \\\n",
       "count       178.000000       178.000000  178.000000   \n",
       "mean          1.590899         5.058090    0.957449   \n",
       "std           0.572359         2.318286    0.228572   \n",
       "min           0.410000         1.280000    0.480000   \n",
       "25%           1.250000         3.220000    0.782500   \n",
       "50%           1.555000         4.690000    0.965000   \n",
       "75%           1.950000         6.200000    1.120000   \n",
       "max           3.580000        13.000000    1.710000   \n",
       "\n",
       "       OD280/OD315 of diluted wines     Proline   \n",
       "count                    178.000000   178.000000  \n",
       "mean                       2.611685   746.893258  \n",
       "std                        0.709990   314.907474  \n",
       "min                        1.270000   278.000000  \n",
       "25%                        1.937500   500.500000  \n",
       "50%                        2.780000   673.500000  \n",
       "75%                        3.170000   985.000000  \n",
       "max                        4.000000  1680.000000  "
      ]
     },
     "execution_count": 9,
     "metadata": {},
     "output_type": "execute_result"
    }
   ],
   "source": [
    "df.describe()"
   ]
  },
  {
   "cell_type": "code",
   "execution_count": 10,
   "id": "be671db0",
   "metadata": {},
   "outputs": [
    {
     "data": {
      "text/plain": [
       "Class                           0\n",
       "Alcohol                         0\n",
       "Malic acid                      0\n",
       "Ash                             0\n",
       "Alcalinity of ash               0\n",
       "Magnesium                       0\n",
       "Total phenols                   0\n",
       "Flavanoids                      0\n",
       "Nonflavanoid phenols            0\n",
       "Proanthocyanins                 0\n",
       "Color intensity                 0\n",
       "Hue                             0\n",
       "OD280/OD315 of diluted wines    0\n",
       "Proline                         0\n",
       "dtype: int64"
      ]
     },
     "execution_count": 10,
     "metadata": {},
     "output_type": "execute_result"
    }
   ],
   "source": [
    "df.isnull().sum()\n",
    "\n",
    "#there are no null values in the dataset"
   ]
  },
  {
   "cell_type": "code",
   "execution_count": 11,
   "id": "8a93be40",
   "metadata": {},
   "outputs": [
    {
     "data": {
      "text/plain": [
       "Text(0.5, 1.0, 'Distribution of the class')"
      ]
     },
     "execution_count": 11,
     "metadata": {},
     "output_type": "execute_result"
    },
    {
     "data": {
      "image/png": "[encoded data removed]",
      "text/plain": [
       "<Figure size 432x288 with 1 Axes>"
      ]
     },
     "metadata": {
      "needs_background": "light"
     },
     "output_type": "display_data"
    }
   ],
   "source": [
    "df[\"Class\"].hist()\n",
    "plt.xlabel(\"Class\")\n",
    "plt.ylabel(\"count\")\n",
    "plt.title(\"Distribution of the class\")"
   ]
  },
  {
   "cell_type": "code",
   "execution_count": 12,
   "id": "94fba65c",
   "metadata": {},
   "outputs": [
    {
     "data": {
      "image/png": "[encoded data removed]",
      "text/plain": [
       "<Figure size 1728x1440 with 16 Axes>"
      ]
     },
     "metadata": {
      "needs_background": "light"
     },
     "output_type": "display_data"
    }
   ],
   "source": [
    "df.hist(figsize=(24,20))\n",
    "plt.show()"
   ]
  },
  {
   "cell_type": "markdown",
   "id": "d98be049",
   "metadata": {},
   "source": [
    "## 8. Perform the required preprocessing , 70,30 split and build a classifier using the Multi-Layer Perceptron Classifier model available in SciKit Learn. Use 3 layers with the same number of neurons as there are features along with 500 max iterations.\n",
    "\n"
   ]
  },
  {
   "cell_type": "code",
   "execution_count": 13,
   "id": "4576073d",
   "metadata": {},
   "outputs": [
    {
     "data": {
      "text/html": [
       "<div>\n",
       "<style scoped>\n",
       "    .dataframe tbody tr th:only-of-type {\n",
       "        vertical-align: middle;\n",
       "    }\n",
       "\n",
       "    .dataframe tbody tr th {\n",
       "        vertical-align: top;\n",
       "    }\n",
       "\n",
       "    .dataframe thead th {\n",
       "        text-align: right;\n",
       "    }\n",
       "</style>\n",
       "<table border=\"1\" class=\"dataframe\">\n",
       "  <thead>\n",
       "    <tr style=\"text-align: right;\">\n",
       "      <th></th>\n",
       "      <th>Class</th>\n",
       "      <th>Alcohol</th>\n",
       "      <th>Malic acid</th>\n",
       "      <th>Ash</th>\n",
       "      <th>Alcalinity of ash</th>\n",
       "      <th>Magnesium</th>\n",
       "      <th>Total phenols</th>\n",
       "      <th>Flavanoids</th>\n",
       "      <th>Nonflavanoid phenols</th>\n",
       "      <th>Proanthocyanins</th>\n",
       "      <th>Color intensity</th>\n",
       "      <th>Hue</th>\n",
       "      <th>OD280/OD315 of diluted wines</th>\n",
       "      <th>Proline</th>\n",
       "    </tr>\n",
       "  </thead>\n",
       "  <tbody>\n",
       "    <tr>\n",
       "      <th>0</th>\n",
       "      <td>1</td>\n",
       "      <td>14.23</td>\n",
       "      <td>1.71</td>\n",
       "      <td>2.43</td>\n",
       "      <td>15.6</td>\n",
       "      <td>127</td>\n",
       "      <td>2.80</td>\n",
       "      <td>3.06</td>\n",
       "      <td>0.28</td>\n",
       "      <td>2.29</td>\n",
       "      <td>5.64</td>\n",
       "      <td>1.04</td>\n",
       "      <td>3.92</td>\n",
       "      <td>1065</td>\n",
       "    </tr>\n",
       "    <tr>\n",
       "      <th>1</th>\n",
       "      <td>1</td>\n",
       "      <td>13.20</td>\n",
       "      <td>1.78</td>\n",
       "      <td>2.14</td>\n",
       "      <td>11.2</td>\n",
       "      <td>100</td>\n",
       "      <td>2.65</td>\n",
       "      <td>2.76</td>\n",
       "      <td>0.26</td>\n",
       "      <td>1.28</td>\n",
       "      <td>4.38</td>\n",
       "      <td>1.05</td>\n",
       "      <td>3.40</td>\n",
       "      <td>1050</td>\n",
       "    </tr>\n",
       "    <tr>\n",
       "      <th>2</th>\n",
       "      <td>1</td>\n",
       "      <td>13.16</td>\n",
       "      <td>2.36</td>\n",
       "      <td>2.67</td>\n",
       "      <td>18.6</td>\n",
       "      <td>101</td>\n",
       "      <td>2.80</td>\n",
       "      <td>3.24</td>\n",
       "      <td>0.30</td>\n",
       "      <td>2.81</td>\n",
       "      <td>5.68</td>\n",
       "      <td>1.03</td>\n",
       "      <td>3.17</td>\n",
       "      <td>1185</td>\n",
       "    </tr>\n",
       "    <tr>\n",
       "      <th>3</th>\n",
       "      <td>1</td>\n",
       "      <td>14.37</td>\n",
       "      <td>1.95</td>\n",
       "      <td>2.50</td>\n",
       "      <td>16.8</td>\n",
       "      <td>113</td>\n",
       "      <td>3.85</td>\n",
       "      <td>3.49</td>\n",
       "      <td>0.24</td>\n",
       "      <td>2.18</td>\n",
       "      <td>7.80</td>\n",
       "      <td>0.86</td>\n",
       "      <td>3.45</td>\n",
       "      <td>1480</td>\n",
       "    </tr>\n",
       "    <tr>\n",
       "      <th>4</th>\n",
       "      <td>1</td>\n",
       "      <td>13.24</td>\n",
       "      <td>2.59</td>\n",
       "      <td>2.87</td>\n",
       "      <td>21.0</td>\n",
       "      <td>118</td>\n",
       "      <td>2.80</td>\n",
       "      <td>2.69</td>\n",
       "      <td>0.39</td>\n",
       "      <td>1.82</td>\n",
       "      <td>4.32</td>\n",
       "      <td>1.04</td>\n",
       "      <td>2.93</td>\n",
       "      <td>735</td>\n",
       "    </tr>\n",
       "  </tbody>\n",
       "</table>\n",
       "</div>"
      ],
      "text/plain": [
       "   Class  Alcohol  Malic acid   Ash  Alcalinity of ash  Magnesium  \\\n",
       "0      1    14.23        1.71  2.43               15.6        127   \n",
       "1      1    13.20        1.78  2.14               11.2        100   \n",
       "2      1    13.16        2.36  2.67               18.6        101   \n",
       "3      1    14.37        1.95  2.50               16.8        113   \n",
       "4      1    13.24        2.59  2.87               21.0        118   \n",
       "\n",
       "   Total phenols  Flavanoids  Nonflavanoid phenols  Proanthocyanins  \\\n",
       "0           2.80        3.06                  0.28             2.29   \n",
       "1           2.65        2.76                  0.26             1.28   \n",
       "2           2.80        3.24                  0.30             2.81   \n",
       "3           3.85        3.49                  0.24             2.18   \n",
       "4           2.80        2.69                  0.39             1.82   \n",
       "\n",
       "   Color intensity   Hue  OD280/OD315 of diluted wines  Proline   \n",
       "0             5.64  1.04                          3.92      1065  \n",
       "1             4.38  1.05                          3.40      1050  \n",
       "2             5.68  1.03                          3.17      1185  \n",
       "3             7.80  0.86                          3.45      1480  \n",
       "4             4.32  1.04                          2.93       735  "
      ]
     },
     "execution_count": 13,
     "metadata": {},
     "output_type": "execute_result"
    }
   ],
   "source": [
    "df.head()"
   ]
  },
  {
   "cell_type": "code",
   "execution_count": 14,
   "id": "9ac325d9",
   "metadata": {},
   "outputs": [
    {
     "data": {
      "text/plain": [
       "2    71\n",
       "1    59\n",
       "3    48\n",
       "Name: Class, dtype: int64"
      ]
     },
     "execution_count": 14,
     "metadata": {},
     "output_type": "execute_result"
    }
   ],
   "source": [
    "df.Class.value_counts()"
   ]
  },
  {
   "cell_type": "code",
   "execution_count": 15,
   "id": "f577a31a",
   "metadata": {},
   "outputs": [],
   "source": [
    "x= df.drop(\"Class\",axis = 1)\n",
    "y= df.Class"
   ]
  },
  {
   "cell_type": "code",
   "execution_count": 16,
   "id": "adbed937",
   "metadata": {},
   "outputs": [],
   "source": [
    "from sklearn.model_selection import train_test_split"
   ]
  },
  {
   "cell_type": "code",
   "execution_count": 32,
   "id": "22f620a1",
   "metadata": {},
   "outputs": [],
   "source": [
    "X_train, X_test, y_train, y_test = train_test_split(x,y,test_size =0.3,random_state=42)"
   ]
  },
  {
   "cell_type": "code",
   "execution_count": 33,
   "id": "16db0d9d",
   "metadata": {},
   "outputs": [
    {
     "name": "stdout",
     "output_type": "stream",
     "text": [
      "(124, 13) (54, 13) (124,) (54,)\n"
     ]
    }
   ],
   "source": [
    "print(X_train.shape,X_test.shape,y_train.shape,y_test.shape)"
   ]
  },
  {
   "cell_type": "code",
   "execution_count": 34,
   "id": "c922ce60",
   "metadata": {},
   "outputs": [],
   "source": [
    "from sklearn.neural_network import MLPClassifier\n"
   ]
  },
  {
   "cell_type": "code",
   "execution_count": 35,
   "id": "76f1a87b",
   "metadata": {},
   "outputs": [
    {
     "data": {
      "text/plain": [
       "(124, 13)"
      ]
     },
     "execution_count": 35,
     "metadata": {},
     "output_type": "execute_result"
    }
   ],
   "source": [
    "X_train.shape"
   ]
  },
  {
   "cell_type": "code",
   "execution_count": 36,
   "id": "71eab9d0",
   "metadata": {},
   "outputs": [
    {
     "data": {
      "text/plain": [
       "MLPClassifier(hidden_layer_sizes=(13, 13, 13), max_iter=500, verbose=True)"
      ]
     },
     "execution_count": 36,
     "metadata": {},
     "output_type": "execute_result"
    }
   ],
   "source": [
    "mlp = MLPClassifier(max_iter=500, hidden_layer_sizes=(13,13,13),verbose = True)\n",
    "mlp"
   ]
  },
  {
   "cell_type": "code",
   "execution_count": 37,
   "id": "1325d3ca",
   "metadata": {},
   "outputs": [
    {
     "data": {
      "text/plain": [
       "(13, 13, 13)"
      ]
     },
     "execution_count": 37,
     "metadata": {},
     "output_type": "execute_result"
    }
   ],
   "source": [
    "mlp.hidden_layer_sizes"
   ]
  },
  {
   "cell_type": "code",
   "execution_count": 38,
   "id": "daef3f8b",
   "metadata": {
    "scrolled": true
   },
   "outputs": [
    {
     "name": "stdout",
     "output_type": "stream",
     "text": [
      "Iteration 1, loss = 24.30075756\n",
      "Iteration 2, loss = 24.15202284\n",
      "Iteration 3, loss = 23.88218325\n",
      "Iteration 4, loss = 23.46426060\n",
      "Iteration 5, loss = 22.85748078\n",
      "Iteration 6, loss = 22.18420382\n",
      "Iteration 7, loss = 21.42134011\n",
      "Iteration 8, loss = 20.66119682\n",
      "Iteration 9, loss = 19.90730924\n",
      "Iteration 10, loss = 19.16443644\n",
      "Iteration 11, loss = 18.39120203\n",
      "Iteration 12, loss = 17.56311978\n",
      "Iteration 13, loss = 16.66837276\n",
      "Iteration 14, loss = 15.64066297\n",
      "Iteration 15, loss = 14.57213222\n",
      "Iteration 16, loss = 13.91773080\n",
      "Iteration 17, loss = 13.48506356\n",
      "Iteration 18, loss = 13.20355624\n",
      "Iteration 19, loss = 12.92573655\n",
      "Iteration 20, loss = 12.62886712\n",
      "Iteration 21, loss = 12.26012647\n",
      "Iteration 22, loss = 11.82284575\n",
      "Iteration 23, loss = 11.34428856\n",
      "Iteration 24, loss = 10.84296609\n",
      "Iteration 25, loss = 10.31479152\n",
      "Iteration 26, loss = 9.76130036\n",
      "Iteration 27, loss = 9.18822761\n",
      "Iteration 28, loss = 8.60823353\n",
      "Iteration 29, loss = 8.03551771\n",
      "Iteration 30, loss = 7.51291780\n",
      "Iteration 31, loss = 7.08842914\n",
      "Iteration 32, loss = 6.77521417\n",
      "Iteration 33, loss = 6.55059710\n",
      "Iteration 34, loss = 6.38243021\n",
      "Iteration 35, loss = 6.24479267\n",
      "Iteration 36, loss = 6.11891099\n",
      "Iteration 37, loss = 5.99248650\n",
      "Iteration 38, loss = 5.85841674\n",
      "Iteration 39, loss = 5.71350992\n",
      "Iteration 40, loss = 5.55756122\n",
      "Iteration 41, loss = 5.39064794\n",
      "Iteration 42, loss = 5.21346863\n",
      "Iteration 43, loss = 5.02767860\n",
      "Iteration 44, loss = 4.83569974\n",
      "Iteration 45, loss = 4.63963538\n",
      "Iteration 46, loss = 4.44242732\n",
      "Iteration 47, loss = 4.24632771\n",
      "Iteration 48, loss = 4.05388156\n",
      "Iteration 49, loss = 3.86765807\n",
      "Iteration 50, loss = 3.68889134\n",
      "Iteration 51, loss = 3.51942105\n",
      "Iteration 52, loss = 3.36033721\n",
      "Iteration 53, loss = 3.21197811\n",
      "Iteration 54, loss = 3.07369861\n",
      "Iteration 55, loss = 2.94432283\n",
      "Iteration 56, loss = 2.82268856\n",
      "Iteration 57, loss = 2.70692136\n",
      "Iteration 58, loss = 2.59623262\n",
      "Iteration 59, loss = 2.48828234\n",
      "Iteration 60, loss = 2.38158162\n",
      "Iteration 61, loss = 2.27463362\n",
      "Iteration 62, loss = 2.16719063\n",
      "Iteration 63, loss = 2.05895672\n",
      "Iteration 64, loss = 1.95058928\n",
      "Iteration 65, loss = 1.84329668\n",
      "Iteration 66, loss = 1.73737897\n",
      "Iteration 67, loss = 1.63397581\n",
      "Iteration 68, loss = 1.53391736\n",
      "Iteration 69, loss = 1.43853861\n",
      "Iteration 70, loss = 1.34780756\n",
      "Iteration 71, loss = 1.26222806\n",
      "Iteration 72, loss = 1.18270810\n",
      "Iteration 73, loss = 1.10919651\n",
      "Iteration 74, loss = 1.04228049\n",
      "Iteration 75, loss = 0.98187532\n",
      "Iteration 76, loss = 0.92813014\n",
      "Iteration 77, loss = 0.88121981\n",
      "Iteration 78, loss = 0.84149533\n",
      "Iteration 79, loss = 0.80915746\n",
      "Iteration 80, loss = 0.78420307\n",
      "Iteration 81, loss = 0.76644352\n",
      "Iteration 82, loss = 0.75545957\n",
      "Iteration 83, loss = 0.75055947\n",
      "Iteration 84, loss = 0.75090473\n",
      "Iteration 85, loss = 0.75521030\n",
      "Iteration 86, loss = 0.76223221\n",
      "Iteration 87, loss = 0.77073732\n",
      "Iteration 88, loss = 0.77955682\n",
      "Iteration 89, loss = 0.78769172\n",
      "Iteration 90, loss = 0.79436401\n",
      "Iteration 91, loss = 0.79905053\n",
      "Iteration 92, loss = 0.80148943\n",
      "Iteration 93, loss = 0.80166098\n",
      "Iteration 94, loss = 0.79974780\n",
      "Training loss did not improve more than tol=0.000100 for 10 consecutive epochs. Stopping.\n"
     ]
    },
    {
     "data": {
      "text/plain": [
       "MLPClassifier(hidden_layer_sizes=(13, 13, 13), max_iter=500, verbose=True)"
      ]
     },
     "execution_count": 38,
     "metadata": {},
     "output_type": "execute_result"
    }
   ],
   "source": [
    "mlp.fit(X_train,y_train)\n",
    "# warning implies that parameers are not optimized bestly"
   ]
  },
  {
   "cell_type": "code",
   "execution_count": 39,
   "id": "58329f09",
   "metadata": {},
   "outputs": [
    {
     "data": {
      "text/plain": [
       "array([2, 1, 2, 1, 2, 1, 2, 2, 2, 2, 2, 2, 1, 2, 1, 2, 2, 2, 1, 2, 1, 2,\n",
       "       2, 2, 2, 2, 2, 2, 2, 1, 1, 2, 2, 1, 1, 1, 2, 2, 2, 2, 1, 2, 2, 2,\n",
       "       2, 1, 2, 2, 2, 1, 2, 1, 1, 2], dtype=int64)"
      ]
     },
     "execution_count": 39,
     "metadata": {},
     "output_type": "execute_result"
    }
   ],
   "source": [
    "pred = mlp.predict(X_test)\n",
    "pred"
   ]
  },
  {
   "cell_type": "code",
   "execution_count": 40,
   "id": "8fc8e5a2",
   "metadata": {},
   "outputs": [
    {
     "data": {
      "text/plain": [
       "array([[17,  2,  0],\n",
       "       [ 0, 21,  0],\n",
       "       [ 0, 14,  0]], dtype=int64)"
      ]
     },
     "execution_count": 40,
     "metadata": {},
     "output_type": "execute_result"
    }
   ],
   "source": [
    "from sklearn.metrics import classification_report,confusion_matrix\n",
    "\n",
    "confusion_matrix(y_test,pred)"
   ]
  },
  {
   "cell_type": "code",
   "execution_count": 41,
   "id": "0a759ff7",
   "metadata": {},
   "outputs": [
    {
     "data": {
      "text/plain": [
       "0.7037037037037037"
      ]
     },
     "execution_count": 41,
     "metadata": {},
     "output_type": "execute_result"
    }
   ],
   "source": [
    "mlp.score(X_test,y_test)"
   ]
  },
  {
   "cell_type": "markdown",
   "id": "8f7f96b4",
   "metadata": {},
   "source": [
    "## 9. Tabulate the precision, recall and F1-score"
   ]
  },
  {
   "cell_type": "code",
   "execution_count": 44,
   "id": "6de17d40",
   "metadata": {},
   "outputs": [
    {
     "name": "stdout",
     "output_type": "stream",
     "text": [
      "              precision    recall  f1-score   support\n",
      "\n",
      "           1       1.00      0.89      0.94        19\n",
      "           2       0.57      1.00      0.72        21\n",
      "           3       0.00      0.00      0.00        14\n",
      "\n",
      "    accuracy                           0.70        54\n",
      "   macro avg       0.52      0.63      0.56        54\n",
      "weighted avg       0.57      0.70      0.61        54\n",
      "\n"
     ]
    },
    {
     "name": "stderr",
     "output_type": "stream",
     "text": [
      "C:\\Users\\tbala\\anaconda3\\lib\\site-packages\\sklearn\\metrics\\_classification.py:1318: UndefinedMetricWarning: Precision and F-score are ill-defined and being set to 0.0 in labels with no predicted samples. Use `zero_division` parameter to control this behavior.\n",
      "  _warn_prf(average, modifier, msg_start, len(result))\n",
      "C:\\Users\\tbala\\anaconda3\\lib\\site-packages\\sklearn\\metrics\\_classification.py:1318: UndefinedMetricWarning: Precision and F-score are ill-defined and being set to 0.0 in labels with no predicted samples. Use `zero_division` parameter to control this behavior.\n",
      "  _warn_prf(average, modifier, msg_start, len(result))\n",
      "C:\\Users\\tbala\\anaconda3\\lib\\site-packages\\sklearn\\metrics\\_classification.py:1318: UndefinedMetricWarning: Precision and F-score are ill-defined and being set to 0.0 in labels with no predicted samples. Use `zero_division` parameter to control this behavior.\n",
      "  _warn_prf(average, modifier, msg_start, len(result))\n"
     ]
    }
   ],
   "source": [
    "print(classification_report(y_test,pred))"
   ]
  },
  {
   "cell_type": "code",
   "execution_count": 45,
   "id": "2d97ee87",
   "metadata": {},
   "outputs": [
    {
     "data": {
      "text/plain": [
       "<bound method BaseEstimator.get_params of MLPClassifier(hidden_layer_sizes=(13, 13, 13), max_iter=500, verbose=True)>"
      ]
     },
     "execution_count": 45,
     "metadata": {},
     "output_type": "execute_result"
    }
   ],
   "source": [
    "mlp.get_params"
   ]
  },
  {
   "cell_type": "code",
   "execution_count": 46,
   "id": "8fe3abe6",
   "metadata": {},
   "outputs": [
    {
     "data": {
      "text/plain": [
       "5"
      ]
     },
     "execution_count": 46,
     "metadata": {},
     "output_type": "execute_result"
    }
   ],
   "source": [
    "mlp.n_layers_"
   ]
  },
  {
   "cell_type": "code",
   "execution_count": 47,
   "id": "8ef9bf20",
   "metadata": {},
   "outputs": [
    {
     "data": {
      "text/plain": [
       "0.9"
      ]
     },
     "execution_count": 47,
     "metadata": {},
     "output_type": "execute_result"
    }
   ],
   "source": [
    "mlp.beta_1   # default alue"
   ]
  },
  {
   "cell_type": "markdown",
   "id": "11a70add",
   "metadata": {},
   "source": [
    "## 10. Display the MLP weights and biases after training your model."
   ]
  },
  {
   "cell_type": "markdown",
   "id": "c8d37ad5",
   "metadata": {},
   "source": [
    "## the weights of the neural network are given below"
   ]
  },
  {
   "cell_type": "code",
   "execution_count": 48,
   "id": "58744b8e",
   "metadata": {},
   "outputs": [
    {
     "data": {
      "text/plain": [
       "[array([[ 1.29336708e-01,  4.40687045e-01, -1.37517314e-02,\n",
       "         -2.63867470e-01, -1.20044190e-01,  2.37120630e-01,\n",
       "          1.63981000e-02,  4.47798598e-01,  4.15674774e-01,\n",
       "         -2.76800849e-01, -4.41286158e-03,  3.22356885e-01,\n",
       "         -2.00586229e-01],\n",
       "        [ 1.26812533e-02,  2.38189641e-01,  2.09110718e-01,\n",
       "         -3.87654181e-01, -1.15117948e-01,  8.14671660e-02,\n",
       "          1.05146474e-01, -2.07465938e-02, -3.43513363e-01,\n",
       "          7.70780215e-02,  2.28229117e-01,  1.82110383e-01,\n",
       "          3.35258387e-01],\n",
       "        [-1.64398639e-02,  3.38085203e-01, -7.64796085e-02,\n",
       "         -3.61106485e-01,  2.44472943e-01, -9.86819901e-02,\n",
       "         -1.19676415e-01,  2.95863128e-01,  4.29064859e-01,\n",
       "         -1.78964322e-01,  2.52517165e-01,  3.09200851e-01,\n",
       "          2.57073608e-01],\n",
       "        [-3.04614485e-01,  4.44654757e-01, -3.40363714e-01,\n",
       "         -4.24702789e-01,  1.13240212e-01,  5.24982144e-02,\n",
       "         -2.16699189e-01,  3.67896494e-01, -4.87057112e-01,\n",
       "         -2.07006832e-01,  2.54426184e-01,  1.48265036e-01,\n",
       "         -4.90068509e-01],\n",
       "        [-6.70669521e-02,  3.04444666e-01,  2.08257242e-01,\n",
       "          1.23583481e-01, -4.53771558e-01,  3.11065184e-01,\n",
       "         -3.02670681e-02,  7.78316368e-03, -3.59297329e-01,\n",
       "         -2.46553694e-01,  1.49614732e-03, -1.92801766e-01,\n",
       "         -5.27536582e-03],\n",
       "        [ 3.38713309e-02, -4.36188469e-01,  1.07180742e-02,\n",
       "          3.92593773e-01, -3.44692099e-01, -3.46695242e-01,\n",
       "         -3.01068784e-02,  1.27166504e-01, -1.14434802e-01,\n",
       "          4.31458619e-01, -2.02387479e-01, -3.58835377e-01,\n",
       "          1.11985755e-01],\n",
       "        [-3.82728308e-01, -3.68897166e-01, -2.19428654e-01,\n",
       "         -2.60535111e-01,  8.30541594e-03, -6.36021162e-05,\n",
       "         -1.92724981e-01, -1.40886792e-01,  4.69739887e-01,\n",
       "          2.07853398e-02,  3.49212658e-01, -6.65725606e-02,\n",
       "         -2.06838415e-01],\n",
       "        [-9.81829102e-02,  2.02831174e-01, -3.20694942e-03,\n",
       "          3.95184785e-01,  2.03790037e-01,  4.77506780e-02,\n",
       "         -3.00358983e-01,  3.49442414e-01, -5.49348757e-02,\n",
       "         -2.65036659e-01, -8.33925812e-02,  1.27254233e-02,\n",
       "         -3.91483473e-01],\n",
       "        [ 1.52457979e-01, -7.33407723e-02,  3.10383181e-02,\n",
       "          3.26161494e-01, -4.84061562e-01, -1.78318450e-01,\n",
       "         -1.49307785e-01,  2.54177557e-01, -4.85012467e-01,\n",
       "         -1.78441469e-01, -2.11355817e-01, -2.30993716e-01,\n",
       "          2.74076253e-01],\n",
       "        [-1.73083976e-01, -1.15094772e-01, -1.14413879e-01,\n",
       "          2.68741001e-01,  3.41157195e-01, -9.25376927e-03,\n",
       "         -4.44401008e-03, -2.11357269e-01,  3.18371222e-01,\n",
       "         -2.35898433e-01,  8.34083244e-03, -1.97023819e-03,\n",
       "          1.40965794e-01],\n",
       "        [-3.19835181e-01,  3.44271063e-01,  3.28695880e-01,\n",
       "          3.12059322e-01,  1.43168010e-01, -2.65118385e-01,\n",
       "          3.19828461e-01,  3.29275164e-01, -3.66946577e-01,\n",
       "          2.93885710e-01,  1.77329470e-01,  3.35170849e-01,\n",
       "         -2.62001279e-01],\n",
       "        [ 3.95156838e-01, -4.82559045e-01,  2.29346956e-01,\n",
       "         -4.54473121e-01,  5.77838830e-02,  2.75110111e-01,\n",
       "         -2.24994107e-02,  4.45121759e-01, -7.64526645e-02,\n",
       "          4.16286480e-01,  3.27792090e-01,  1.06923383e-01,\n",
       "         -4.82985053e-01],\n",
       "        [-1.53877089e-01,  1.80148049e-01, -3.75614489e-01,\n",
       "          2.08740801e-01,  3.69092309e-01, -1.51907588e-01,\n",
       "         -9.88180323e-02,  4.78436108e-01,  2.50155874e-01,\n",
       "          1.01597082e-01, -5.02839783e-02, -3.03543720e-01,\n",
       "          2.54074724e-02]]),\n",
       " array([[ 2.56174392e-01, -3.59703031e-01, -2.97801160e-01,\n",
       "         -1.20743637e-01, -2.43521953e-01,  3.86594157e-02,\n",
       "          4.07954273e-02,  3.02484222e-01, -3.07572054e-01,\n",
       "         -3.35026867e-01,  8.12193213e-02, -1.90597927e-01,\n",
       "          3.21690947e-01],\n",
       "        [ 3.25423149e-01, -2.50018337e-02,  2.93773027e-01,\n",
       "          2.54721302e-01,  1.24246998e-01,  2.59092072e-01,\n",
       "          3.89054200e-01,  1.30005316e-02, -8.71644543e-02,\n",
       "          1.98280171e-01,  3.61662471e-01, -3.97141085e-01,\n",
       "         -3.18420337e-01],\n",
       "        [ 2.48917503e-01, -1.76170633e-01,  9.65438644e-02,\n",
       "         -3.12381890e-01, -3.10809554e-01, -3.67576875e-01,\n",
       "          1.90998859e-01,  7.20533078e-02, -1.86952643e-01,\n",
       "         -3.87077835e-01, -5.28433628e-02, -1.35994663e-01,\n",
       "         -3.90405221e-01],\n",
       "        [-2.63415396e-01,  1.15620780e-01,  3.58394402e-01,\n",
       "          4.44407650e-01, -1.01551265e-01,  3.98385630e-01,\n",
       "          9.72386848e-02,  2.68424364e-02, -3.99013179e-01,\n",
       "          1.07056647e-01, -4.40852252e-02, -1.79473429e-01,\n",
       "          2.69853435e-01],\n",
       "        [ 2.14486320e-02, -3.27975773e-01,  2.98893924e-01,\n",
       "         -4.92849940e-02,  4.51501930e-01, -5.52857627e-02,\n",
       "          1.66674494e-01,  1.02591456e-01, -6.93266889e-02,\n",
       "         -2.76327467e-01, -2.17810630e-02,  4.13612668e-02,\n",
       "          3.57756164e-01],\n",
       "        [ 1.89510709e-01,  1.99542725e-01,  3.53809356e-01,\n",
       "          3.65935878e-01,  2.91949973e-01, -3.90528120e-01,\n",
       "          1.25575421e-01, -3.68924233e-01,  3.68148499e-01,\n",
       "          6.34694734e-02,  1.69538702e-01, -1.27128225e-02,\n",
       "          2.85881515e-01],\n",
       "        [-1.98574379e-01, -2.09083479e-01, -1.05937663e-01,\n",
       "          3.81521701e-01,  2.75403418e-01, -2.88084788e-01,\n",
       "         -3.08146632e-01,  1.04394762e-03,  2.73453857e-01,\n",
       "         -1.21356335e-01,  6.41631166e-02, -3.11910983e-01,\n",
       "          2.16735328e-04],\n",
       "        [-3.89253683e-01, -2.24922887e-01, -1.36534793e-01,\n",
       "         -3.36874639e-01, -4.00573170e-02, -3.42370373e-01,\n",
       "         -9.13639082e-02, -3.40391131e-01, -7.54816197e-02,\n",
       "         -6.16783839e-03, -3.61938963e-01, -1.66331058e-01,\n",
       "         -2.23381754e-01],\n",
       "        [-1.29139369e-01, -1.31894737e-01, -3.64067447e-01,\n",
       "         -2.65175619e-02, -3.27548380e-01,  2.41970731e-01,\n",
       "         -2.50026283e-01, -4.42298773e-02,  2.52522897e-01,\n",
       "         -3.85609447e-01, -3.92766913e-02, -1.90098634e-01,\n",
       "          8.33124380e-03],\n",
       "        [ 2.38030154e-01,  9.73274607e-02,  1.48375787e-01,\n",
       "          1.06589026e-01,  2.79354181e-01, -4.47943280e-01,\n",
       "          3.66049917e-01,  6.94654949e-03, -3.28547841e-01,\n",
       "         -3.81545356e-01, -3.37988503e-01, -6.53327934e-02,\n",
       "          3.08321047e-01],\n",
       "        [ 1.08587857e-01, -1.77957989e-01,  1.20468499e-01,\n",
       "         -2.79048418e-01,  9.23848553e-03,  2.24678258e-01,\n",
       "         -2.34136491e-01, -1.02716960e-01, -2.99270239e-01,\n",
       "          2.58534668e-01,  2.78643579e-01,  1.88250488e-02,\n",
       "          3.91313706e-01],\n",
       "        [-2.02330001e-01, -1.40670284e-01, -3.64019705e-01,\n",
       "         -5.25308828e-03,  3.09470643e-01,  6.60466353e-02,\n",
       "          1.18228856e-01, -3.58890021e-01, -2.52490587e-01,\n",
       "         -8.06122701e-02, -3.11138327e-01, -7.10475061e-04,\n",
       "          3.73038994e-02],\n",
       "        [ 5.71261807e-03, -2.42212244e-01,  2.60814627e-02,\n",
       "          1.75606900e-01,  2.17147304e-01,  9.45778484e-02,\n",
       "         -2.97528991e-01,  2.43703050e-01,  3.53020140e-01,\n",
       "          3.84022036e-01,  7.43182284e-02,  3.75063512e-01,\n",
       "          1.62126806e-01]]),\n",
       " array([[ 2.83360488e-03,  1.38209485e-01,  2.70815652e-01,\n",
       "         -2.55156409e-01,  5.54554442e-02, -2.05697765e-01,\n",
       "          2.26316187e-01,  1.93193219e-03, -1.66270165e-01,\n",
       "         -3.33672942e-01,  3.93601842e-01,  3.51280175e-02,\n",
       "         -2.93064610e-01],\n",
       "        [ 9.00116186e-03,  1.01478839e-03,  1.56042050e-01,\n",
       "         -3.39863296e-01, -3.15251624e-01, -3.89623218e-01,\n",
       "         -1.96380513e-02, -3.69066658e-03,  4.92281510e-02,\n",
       "         -1.28941777e-01, -3.73523854e-02, -6.34370453e-02,\n",
       "         -3.29089414e-01],\n",
       "        [ 3.65915671e-01,  7.77763661e-02, -3.44495039e-01,\n",
       "         -2.16389509e-01, -3.83872897e-01, -7.93409705e-03,\n",
       "         -2.09377065e-01,  2.92823340e-01,  4.02297281e-01,\n",
       "          1.21827918e-01,  1.04383811e-01, -9.29819935e-02,\n",
       "         -1.49525165e-01],\n",
       "        [-6.04931921e-02, -5.25426364e-02, -9.37264676e-02,\n",
       "          1.30311334e-01,  1.38972495e-01,  3.24021369e-01,\n",
       "         -3.38023438e-01, -3.21507181e-02, -1.35842706e-01,\n",
       "          1.09434054e-01, -1.50171392e-01, -3.24187628e-01,\n",
       "         -2.84513640e-01],\n",
       "        [ 2.84733322e-01,  4.03449468e-01,  2.75692885e-01,\n",
       "         -1.94427109e-01, -1.05494458e-01, -1.53747160e-02,\n",
       "         -3.83504024e-01, -1.13786401e-01, -2.43100854e-01,\n",
       "         -4.42166877e-02, -3.79227640e-01, -3.91222257e-01,\n",
       "          2.09856789e-01],\n",
       "        [ 1.86361165e-01,  3.41700583e-01,  1.11001667e-01,\n",
       "         -2.91460665e-01, -3.47896755e-01, -3.11771228e-01,\n",
       "          7.80957437e-02,  4.06015278e-01,  1.90459292e-01,\n",
       "          3.95636054e-01, -2.06854734e-01,  2.34199056e-01,\n",
       "          1.64343722e-01],\n",
       "        [-3.28453157e-01, -2.07681490e-01, -8.71111356e-02,\n",
       "          3.09993205e-01,  2.38225806e-01, -3.24456806e-01,\n",
       "         -5.92151621e-02, -4.70329208e-01,  1.60268804e-01,\n",
       "         -1.75940221e-01, -2.91014748e-01,  1.55364227e-03,\n",
       "         -3.02748448e-01],\n",
       "        [-2.86850080e-01, -1.85194475e-01, -2.45824693e-01,\n",
       "          4.41741895e-02,  1.85193931e-01, -3.29040070e-01,\n",
       "          1.30774965e-01, -4.48524201e-03, -3.38183939e-01,\n",
       "         -2.29067888e-01, -3.70831366e-01, -9.89487167e-02,\n",
       "          3.49273198e-01],\n",
       "        [-3.90088823e-01, -2.62776202e-01, -2.35525164e-01,\n",
       "         -1.58562380e-01,  3.08293069e-01, -2.42247448e-01,\n",
       "         -2.07221479e-01,  4.05425430e-02,  2.02907459e-01,\n",
       "          3.25577400e-01,  3.43170411e-01, -2.25385913e-01,\n",
       "         -1.04818854e-01],\n",
       "        [-4.85825546e-02,  1.34379493e-01, -3.55410747e-01,\n",
       "         -2.98988441e-01,  8.19263209e-02, -1.94670091e-02,\n",
       "         -1.86201653e-01, -2.77032585e-03,  2.02793251e-03,\n",
       "          1.81860760e-01,  2.07676882e-02,  3.53769192e-01,\n",
       "          3.43599127e-01],\n",
       "        [ 1.26660960e-01, -3.45100704e-01, -3.90905831e-01,\n",
       "         -2.56451561e-02,  2.84232804e-01, -3.98891664e-01,\n",
       "         -2.65820000e-01,  3.36120389e-01, -9.69636713e-02,\n",
       "          3.84479542e-01, -3.41613368e-01,  1.12121664e-02,\n",
       "         -1.64960978e-01],\n",
       "        [-1.19140072e-01, -3.81979405e-02, -3.38312068e-01,\n",
       "          1.53540629e-01,  1.52620049e-01,  2.10975360e-01,\n",
       "         -1.48461364e-02, -1.12961448e-02, -6.22992201e-02,\n",
       "         -1.07111394e-01,  3.94738558e-01,  7.26104520e-02,\n",
       "          2.90997271e-01],\n",
       "        [ 1.74727543e-01,  4.66177837e-02,  3.16747173e-06,\n",
       "          2.66201733e-01,  3.40775841e-05,  2.63784694e-01,\n",
       "         -5.39266326e-02, -2.87514315e-01, -1.32296172e-01,\n",
       "         -3.83447782e-01,  5.62141845e-03,  3.01266227e-01,\n",
       "          1.35017496e-02]]),\n",
       " array([[ 0.29854672, -0.02176337,  0.49441454],\n",
       "        [ 0.25315547,  0.26889172, -0.27357744],\n",
       "        [ 0.39278281, -0.44850034,  0.3785878 ],\n",
       "        [ 0.41607891, -0.5299101 ,  0.00215044],\n",
       "        [ 0.47892189,  0.11421293, -0.07571821],\n",
       "        [-0.35804631,  0.32007112, -0.00097252],\n",
       "        [-0.10266183,  0.16054279,  0.27562883],\n",
       "        [ 0.41535335,  0.13152893,  0.13893687],\n",
       "        [-0.47679462, -0.15717505, -0.33231338],\n",
       "        [ 0.39271701, -0.40796517,  0.07262657],\n",
       "        [-0.00634982,  0.16648624,  0.18378015],\n",
       "        [-0.50789768, -0.35328689, -0.12433682],\n",
       "        [-0.0264452 ,  0.03468821, -0.06242528]])]"
      ]
     },
     "execution_count": 48,
     "metadata": {},
     "output_type": "execute_result"
    }
   ],
   "source": [
    "mlp.coefs_"
   ]
  },
  {
   "cell_type": "markdown",
   "id": "79ee9d36",
   "metadata": {},
   "source": [
    "## The biases of the neural network are given below"
   ]
  },
  {
   "cell_type": "code",
   "execution_count": 49,
   "id": "09416e29",
   "metadata": {},
   "outputs": [
    {
     "data": {
      "text/plain": [
       "[array([-0.32582639,  0.29294236,  0.38254194,  0.2991128 , -0.42483978,\n",
       "        -0.15527616,  0.05731286, -0.32916804,  0.29291493,  0.33088251,\n",
       "        -0.10926117,  0.3198393 , -0.18602197]),\n",
       " array([-0.22386065,  0.4278635 ,  0.04559876, -0.38230934, -0.16458262,\n",
       "         0.11419158,  0.05336472,  0.32909389,  0.0893984 ,  0.20759139,\n",
       "        -0.05472709,  0.09816594, -0.40234883]),\n",
       " array([-0.09470312,  0.13493793, -0.00215433, -0.12523372,  0.23728556,\n",
       "        -0.30679566, -0.15444018,  0.23459524,  0.28044982,  0.25416326,\n",
       "         0.24710863,  0.40189488,  0.21659384]),\n",
       " array([-0.15891869, -0.34626474, -0.18764942])]"
      ]
     },
     "execution_count": 49,
     "metadata": {},
     "output_type": "execute_result"
    }
   ],
   "source": [
    "mlp.intercepts_\n",
    "# The ith element in the list represents the bias vector corresponding to layer i + 1."
   ]
  },
  {
   "cell_type": "code",
   "execution_count": null,
   "id": "37c765db",
   "metadata": {},
   "outputs": [],
   "source": []
  },
  {
   "cell_type": "code",
   "execution_count": null,
   "id": "3cc956c5",
   "metadata": {},
   "outputs": [],
   "source": []
  }
 ],
 "metadata": {
  "kernelspec": {
   "display_name": "Python 3",
   "language": "python",
   "name": "python3"
  },
  "language_info": {
   "codemirror_mode": {
    "name": "ipython",
    "version": 3
   },
   "file_extension": ".py",
   "mimetype": "text/x-python",
   "name": "python",
   "nbconvert_exporter": "python",
   "pygments_lexer": "ipython3",
   "version": "3.8.8"
  }
 },
 "nbformat": 4,
 "nbformat_minor": 5
}
